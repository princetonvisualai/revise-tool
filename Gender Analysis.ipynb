{
 "cells": [
  {
   "cell_type": "markdown",
   "metadata": {},
   "source": [
    "# Gender Analysis"
   ]
  },
  {
   "cell_type": "markdown",
   "metadata": {},
   "source": [
    "Note: In this work we’ve limited our analyses to a grouping based on perceived binary gender because these labels already exist in the datasets we look at, even though it is not at all inclusive of all gender categories. We use the terms male and female to refer to binarized socially-perceived gender expression, and not gender identity nor sex assigned at birth, neither of which can be inferred from an image."
   ]
  },
  {
   "cell_type": "markdown",
   "metadata": {},
   "source": [
    "## Instructions\n",
    "1. Fill in the dataset in section 1.1\n",
    "\n",
    "2. Run all of the cells\n",
    "\n",
    "3. Look at the summary pdf generated AND/OR explore each metric below.\n",
    "    - Under each Metric there will be a portion of \"Setup\" and then \"Analyses\". Ignore the \"Setup\" unless customization is needed, and in \"Analyses\" results are shown to be interacted with. The number that comes after the M in the title refers to the measurement number when collecting the metrics.\n",
    "\n",
    "## Table of Contents\n",
    "1. [Initial Setup](#setup) <br/>\n",
    "    1.1 [Dataset](#dataset)\n",
    "2. (M1) Metric: [Distance from center, size, gender label inference](#metric1)<br/>\n",
    "    2.1 [Setup](#metric1_setup)<br/>\n",
    "    2.2 [Analyses](#metric1_analyses)\n",
    "3. (M2) Metric: [Object occurrences and cooccurrences](#metric2))<br/>\n",
    "    3.1 [Setup](#metric2_setup)<br/>\n",
    "    3.2 [Analyses](#metric2_analyses)\n",
    "4. (M3) Metric: [Distance from object as proxy for interaction](#metric3)<br/>\n",
    "    4.1 [Setup](#metric3_setup)<br/>\n",
    "    4.2 [Analyses](#metric3_analyses)\n",
    "5. (M4) Metric: [Linearly separable objects by gender](#metric4)<br/>\n",
    "    5.1 [Setup](#metric4_setup)<br/>\n",
    "    5.2 [Analyses](#metric4_analyses)\n",
    "6. (M11) Metric: [Scenes](#metric11)<br/>\n",
    "    6.1 [Setup](#metric11_setup)<br/>\n",
    "    6.2 [Analyses](#metric11_analyses)\n",
    "7. [Setting up summary pdf](#summarypdf)"
   ]
  },
  {
   "cell_type": "markdown",
   "metadata": {},
   "source": [
    "# Initial Setup\n",
    "<a id=\"setup\"></a>"
   ]
  },
  {
   "cell_type": "code",
   "execution_count": 1,
   "metadata": {},
   "outputs": [],
   "source": [
    "from __future__ import print_function\n",
    "import argparse\n",
    "import datasets\n",
    "import pickle\n",
    "import itertools\n",
    "import torchvision.transforms as transforms\n",
    "import torch.utils.data as data\n",
    "import os\n",
    "import matplotlib.pyplot as plt\n",
    "import matplotlib as mpl\n",
    "from sklearn.manifold import TSNE\n",
    "import seaborn as sns\n",
    "import numpy as np\n",
    "from scipy import stats\n",
    "import PIL.Image\n",
    "from scipy.cluster.hierarchy import dendrogram, linkage\n",
    "from math import sqrt\n",
    "import cv2\n",
    "import matplotlib.patches as patches\n",
    "from scipy.spatial.distance import squareform\n",
    "import pycountry\n",
    "from geonamescache import GeonamesCache\n",
    "from matplotlib.patches import Polygon\n",
    "from matplotlib.collections import PatchCollection\n",
    "from mpl_toolkits.basemap import Basemap\n",
    "from sklearn import svm\n",
    "from sklearn.decomposition import PCA\n",
    "from sklearn.preprocessing import StandardScaler\n",
    "import re\n",
    "import plotly.graph_objects as go\n",
    "import textwrap\n",
    "import matplotlib.patches as mpatches\n",
    "import operator\n",
    "from matplotlib.font_manager import FontProperties\n",
    "import imageio\n",
    "from ipywidgets import interact, interactive, fixed, interact_manual, HBox, Layout\n",
    "import ipywidgets as widgets\n",
    "from IPython.display import Image\n",
    "from IPython.core.display import HTML\n",
    "from IPython.display import display\n",
    "import time\n",
    "import warnings\n",
    "import random\n",
    "from matplotlib.transforms import Bbox\n",
    "from IPython.display import clear_output"
   ]
  },
  {
   "cell_type": "code",
   "execution_count": 2,
   "metadata": {},
   "outputs": [],
   "source": [
    "COLORS = sns.color_palette('Set2', 2)\n",
    "SAME_EXTENT = (-0.5, 6.5, -0.5, 6.5)\n",
    "np.seterr(divide='ignore', invalid='ignore')\n",
    "warnings.filterwarnings(\"ignore\")\n",
    "\n",
    "if not os.path.exists(\"dataloader_files\"):\n",
    "    os.mkdir(\"dataloader_files\")\n",
    "if not os.path.exists(\"results\"):\n",
    "    os.mkdir(\"results\")\n",
    "if not os.path.exists(\"checkpoints\"):\n",
    "    os.mkdir(\"checkpoints\")"
   ]
  },
  {
   "cell_type": "code",
   "execution_count": 3,
   "metadata": {},
   "outputs": [],
   "source": [
    "%matplotlib inline"
   ]
  },
  {
   "cell_type": "code",
   "execution_count": 4,
   "metadata": {},
   "outputs": [],
   "source": [
    "# https://stackoverflow.com/questions/31517194/how-to-hide-one-specific-cell-input-or-output-in-ipython-notebook\n",
    "def hide_toggle(for_next=False, toggle_text='Toggle show/hide'):\n",
    "    this_cell = \"\"\"$('div.cell.code_cell.rendered.selected')\"\"\"\n",
    "    next_cell = this_cell + '.next()'\n",
    "\n",
    "    target_cell = this_cell  # target cell to control with toggle\n",
    "    js_hide_current = ''  # bit of JS to permanently hide code in current cell (only when toggling next cell)\n",
    "\n",
    "    if for_next:\n",
    "        target_cell = next_cell\n",
    "        js_hide_current = this_cell + '.find(\"div.input\").hide();'\n",
    "\n",
    "    js_f_name = 'code_toggle_{}'.format(str(random.randint(1,2**64)))\n",
    "\n",
    "    html = \"\"\"\n",
    "        <script>\n",
    "            function {f_name}() {{\n",
    "                {cell_selector}.find('div.input').toggle();\n",
    "            }}\n",
    "\n",
    "            {js_hide_current}\n",
    "        </script>\n",
    "\n",
    "        <a href=\"javascript:{f_name}()\">{toggle_text}</a>\n",
    "    \"\"\".format(\n",
    "        f_name=js_f_name,\n",
    "        cell_selector=target_cell,\n",
    "        js_hide_current=js_hide_current, \n",
    "        toggle_text=toggle_text\n",
    "    )\n",
    "\n",
    "    return HTML(html)"
   ]
  },
  {
   "cell_type": "code",
   "execution_count": 5,
   "metadata": {},
   "outputs": [
    {
     "data": {
      "text/html": [
       "\n",
       "        <script>\n",
       "            function code_toggle_2766919677451986005() {\n",
       "                $('div.cell.code_cell.rendered.selected').next().find('div.input').toggle();\n",
       "            }\n",
       "\n",
       "            $('div.cell.code_cell.rendered.selected').find(\"div.input\").hide();\n",
       "        </script>\n",
       "\n",
       "        <a href=\"javascript:code_toggle_2766919677451986005()\">Show/hide helper functions</a>\n",
       "    "
      ],
      "text/plain": [
       "<IPython.core.display.HTML object>"
      ]
     },
     "execution_count": 5,
     "metadata": {},
     "output_type": "execute_result"
    }
   ],
   "source": [
    "hide_toggle(for_next=True, toggle_text='Show/hide helper functions')"
   ]
  },
  {
   "cell_type": "code",
   "execution_count": 6,
   "metadata": {},
   "outputs": [],
   "source": [
    "def folder(num, folder):\n",
    "    if not os.path.exists(\"results/{0}/{1}\".format(folder, num)):\n",
    "        os.mkdir(\"results/{0}/{1}\".format(folder, num))\n",
    "    file = open(\"results/{0}/{1}/results.txt\".format(folder, num), \"w\")\n",
    "    return file\n",
    "\n",
    "# Projecting a set of features into a lower-dimensional subspace with PCA\n",
    "def project(features, dim):\n",
    "    standardized = StandardScaler().fit_transform(features)\n",
    "    pca = PCA(n_components=dim)\n",
    "    principalComponents = pca.fit_transform(X=standardized)\n",
    "    return principalComponents\n",
    "\n",
    "# Calculating the binomial proportion confidence interval\n",
    "def wilson(p, n, z = 1.96):\n",
    "    denominator = 1 + z**2/n\n",
    "    centre_adjusted_probability = p + z*z / (2*n)\n",
    "    adjusted_standard_deviation = sqrt((p*(1 - p) + z*z / (4*n)) / n)\n",
    "    \n",
    "    lower_bound = (centre_adjusted_probability - z*adjusted_standard_deviation) / denominator\n",
    "    upper_bound = (centre_adjusted_probability + z*adjusted_standard_deviation) / denominator\n",
    "    return (lower_bound, upper_bound)\n",
    "\n",
    "def country_to_iso3(country):\n",
    "    missing = {'South+Korea': 'KOR',\n",
    "            'North+Korea': 'PRK',\n",
    "            'Laos': 'LAO',\n",
    "            'Caribbean+Netherlands': 'BES',\n",
    "            'St.+Lucia': 'LCA',\n",
    "            'East+Timor': 'TLS',\n",
    "            'Democratic+Republic+of+Congo': 'COD',\n",
    "            'Swaziland': 'SWZ',\n",
    "            'Cape+Verde': 'CPV',\n",
    "            'C%C3%B4te+d%C2%B4Ivoire': 'CIV',\n",
    "            'Ivory+Coast': 'CIV',\n",
    "            'Channel+Islands': 'GBR'\n",
    "            }\n",
    "    try:\n",
    "        iso3 = pycountry.countries.search_fuzzy(country.replace('+', ' '))[0].alpha_3\n",
    "    except LookupError:\n",
    "        try:\n",
    "            iso3 = missing[country]\n",
    "        except KeyError:\n",
    "            iso3 = None\n",
    "    return iso3\n",
    "\n",
    "def full_extent(ax, pad=0.0):\n",
    "    \"\"\"Get the full extent of an axes, including axes labels, tick labels, and\n",
    "    titles.\"\"\"\n",
    "    # For text objects, we need to draw the figure first, otherwise the extents\n",
    "    # are undefined.\n",
    "    ax.figure.canvas.draw()\n",
    "    items = ax.get_xticklabels() + ax.get_yticklabels() \n",
    "    items += [ax, ax.title]\n",
    "    bbox = Bbox.union([item.get_window_extent() for item in items])\n",
    "\n",
    "    return bbox.expanded(1.0 + pad, 1.0 + pad)\n",
    "\n",
    "def display_filepaths(filepaths, width=100, height=100):\n",
    "    sidebyside = widgets.HBox([widgets.Image(value=open(filepath, 'rb').read(), format='png', width=width, height=height) for filepath in filepaths], layout=Layout(height='{}px'.format(height)))\n",
    "    display(sidebyside)\n",
    "\n",
    "def dec_to_show(p):\n",
    "    if p < .001:\n",
    "        return '{:0.3e}'.format(p)\n",
    "    else:\n",
    "        return round(p, 3)"
   ]
  },
  {
   "cell_type": "markdown",
   "metadata": {},
   "source": [
    "## Dataset\n",
    "Fill in below with dataset and file path names\n",
    "<a id=\"dataset\"></a>"
   ]
  },
  {
   "cell_type": "code",
   "execution_count": 7,
   "metadata": {},
   "outputs": [
    {
     "name": "stdout",
     "output_type": "stream",
     "text": [
      "loading annotations into memory...\n",
      "Done (t=23.42s)\n",
      "creating index...\n",
      "index created!\n"
     ]
    }
   ],
   "source": [
    "transform_train = transforms.Compose([ \n",
    "        transforms.ToTensor()\n",
    "        ])\n",
    "dataset = datasets.CoCoDataset(transform_train)\n",
    "folder_name = 'coco_supp'\n",
    "\n",
    "# dataset = datasets.OpenImagesDataset(transform_train)\n",
    "# folder_name = 'openimages_supp'"
   ]
  },
  {
   "cell_type": "code",
   "execution_count": 8,
   "metadata": {},
   "outputs": [],
   "source": [
    "save_loc = '1_pager_gen'\n",
    "os.system(\"rm -r results/{0}/{1}\".format(folder_name, save_loc))\n",
    "file = folder(save_loc, folder_name)\n",
    "first_pass = True\n",
    "to_write = {}\n",
    "if not os.path.exists(\"checkpoints/{}\".format(folder_name)):\n",
    "    os.mkdir(\"checkpoints/{}\".format(folder_name))"
   ]
  },
  {
   "cell_type": "markdown",
   "metadata": {},
   "source": [
    "# (M1) Metric: Distance from center, size, gender label inference\n",
    "<a id=\"metric1\"></a>"
   ]
  },
  {
   "cell_type": "markdown",
   "metadata": {},
   "source": [
    "## Setup\n",
    "<a id=\"metric1_setup\"></a>"
   ]
  },
  {
   "cell_type": "code",
   "execution_count": 9,
   "metadata": {},
   "outputs": [
    {
     "data": {
      "text/html": [
       "\n",
       "        <script>\n",
       "            function code_toggle_5265173914847843441() {\n",
       "                $('div.cell.code_cell.rendered.selected').next().find('div.input').toggle();\n",
       "            }\n",
       "\n",
       "            $('div.cell.code_cell.rendered.selected').find(\"div.input\").hide();\n",
       "        </script>\n",
       "\n",
       "        <a href=\"javascript:code_toggle_5265173914847843441()\">Show/hide M1 code</a>\n",
       "    "
      ],
      "text/plain": [
       "<IPython.core.display.HTML object>"
      ]
     },
     "execution_count": 9,
     "metadata": {},
     "output_type": "execute_result"
    }
   ],
   "source": [
    "hide_toggle(for_next=True, toggle_text='Show/hide M1 code')"
   ]
  },
  {
   "cell_type": "code",
   "execution_count": 10,
   "metadata": {},
   "outputs": [],
   "source": [
    "global saved\n",
    "saved = [False, False, False, False]\n",
    "\n",
    "info = pickle.load(open(\"results/{}/1.pkl\".format(folder_name), \"rb\"))\n",
    "sizes = info['sizes']\n",
    "dists = info['distances']\n",
    "tiny_sizes = info['tiny_sizes']\n",
    "no_faces = info['noface_sizes']\n",
    "f_scenes = np.array(list(itertools.chain.from_iterable([chunk[2] for chunk in no_faces[0]])) + list(itertools.chain.from_iterable([chunk[1] for chunk in tiny_sizes[0]])))\n",
    "m_scenes = np.array(list(itertools.chain.from_iterable([chunk[2] for chunk in no_faces[1]])) + list(itertools.chain.from_iterable([chunk[1] for chunk in tiny_sizes[1]])))\n",
    "tiny_sizes[0] = [chunk[0] for chunk in tiny_sizes[0]]\n",
    "tiny_sizes[1] = [chunk[0] for chunk in tiny_sizes[1]]\n",
    "no_faces[0] = [chunk[0] for chunk in no_faces[0]]\n",
    "no_faces[1] = [chunk[0] for chunk in no_faces[1]]\n",
    "\n",
    "info = pickle.load(open('util_files/places_scene_info.pkl', 'rb'))\n",
    "idx_to_scene = info['idx_to_scene']\n",
    "idx_to_scenegroup = info['idx_to_scenegroup']\n",
    "sceneidx_to_scenegroupidx = info['sceneidx_to_scenegroupidx']\n",
    "\n",
    "xaxis = [idx_to_scenegroup[i] for i in range(len(idx_to_scenegroup))]\n",
    "xaxis = ['\\n'.join(textwrap.wrap(chunk, width=30)) for chunk in xaxis]\n",
    "barWidth = .4\n",
    "fontsize = 15\n",
    "\n",
    "r1 = np.arange(len(idx_to_scenegroup))\n",
    "scenes_f = np.bincount(f_scenes)\n",
    "scenes_m = np.bincount(m_scenes)\n",
    "\n",
    "total_images = np.sum(scenes_f+scenes_m)\n",
    "scenes_f, scenes_m = scenes_f / total_images, scenes_m / total_images\n",
    "all_sizes = [tiny_sizes[0]+no_faces[0]+sizes[0], tiny_sizes[1]+no_faces[1]+sizes[1]]\n",
    "\n",
    "def numbers_where_gender_inferred():\n",
    "    tiny_females, tiny_males = len(tiny_sizes[0]), len(tiny_sizes[1])\n",
    "    noface_females, noface_males = len(no_faces[0]), len(no_faces[1])\n",
    "    original_females, original_males = tiny_females+noface_females+len(sizes[0]), tiny_males+noface_males+len(sizes[1])\n",
    "    print(\"Total images: {0}, and {1} were male, {2} were female. {3}x\".format(original_females+original_males, original_males, original_females, round(original_males/original_females, 4)))\n",
    "    try:\n",
    "        print(\"Discarded {0} images for being too small, and {1} were male, {2} were female. {3}x\".format(tiny_females+tiny_males, tiny_males, tiny_females, round(tiny_males/tiny_females, 4)))\n",
    "    except ZeroDivisionError:\n",
    "        print(\"Discarded {0} images for being too small, and {1} were male, {2} were female.\".format(tiny_females+tiny_males, tiny_males, tiny_females))\n",
    "    try:\n",
    "        print(\"Discarded {0} images for having no face detected, and {1} were male, {2} were female. {3}x\".format(noface_females+noface_males,noface_males, noface_females, round(noface_males/noface_females, 4)))\n",
    "    except ZeroDivisionError:\n",
    "        print(\"Discarded {0} images for having no face detected, and {1} were male, {2} were female.\".format(noface_females+noface_males,noface_males, noface_females))\n",
    "    print(\"There were {0} male images and {1} female images included. {2}x\".format(len(sizes[1]), len(sizes[0]), round(len(sizes[1])/len(sizes[0]), 4)))\n",
    "\n",
    "    # P(male|no face)\n",
    "    nogender_males = tiny_males + noface_males\n",
    "    nogender_females = tiny_females + noface_females\n",
    "    prob = nogender_males / (nogender_males + nogender_females)\n",
    "    prob_statement = \"Probability image is labeled male when it should not be, i.e. given there's no face detected or person is too small: {}\".format(round(prob, 4))\n",
    "    if (prob < .45 or prob > .55) and first_pass:\n",
    "        to_write[0] = [\"(M1) \" + prob_statement]\n",
    "    print()\n",
    "    print(prob_statement)\n",
    "\n",
    "    \n",
    "def print_numbers_where_gender_inferred():\n",
    "    tiny_females, tiny_males = len(tiny_sizes[0]), len(tiny_sizes[1])\n",
    "    noface_females, noface_males = len(no_faces[0]), len(no_faces[1])\n",
    "    original_females, original_males = tiny_females+noface_females+len(sizes[0]), tiny_males+noface_males+len(sizes[1])\n",
    "    pdf.write(5, \"\\n- Total images: {0}, and {1} were male, {2} were female. {3}x\".format(original_females+original_males, original_males, original_females, round(original_males/original_females, 4)))\n",
    "    try:\n",
    "        pdf.write(5, \"\\n- Discarded {0} images for being too small, and {1} were male, {2} were female. {3}x\".format(tiny_females+tiny_males, tiny_males, tiny_females, round(tiny_males/tiny_females, 4)))\n",
    "    except ZeroDivisionError:\n",
    "        pdf.write(5,\"\\n- Discarded {0} images for being too small, and {1} were male, {2} were female.\".format(tiny_females+tiny_males, tiny_males, tiny_females))\n",
    "    try:\n",
    "        pdf.write(5, \"\\n- Discarded {0} images for having no face detected, and {1} were male, {2} were female. {3}x\".format(noface_females+noface_males,noface_males, noface_females, round(noface_males/noface_females, 4)))\n",
    "    except ZeroDivisionError:\n",
    "        pdf.write(5, \"\\n- Discarded {0} images for having no face detected, and {1} were male, {2} were female.\".format(noface_females+noface_males,noface_males, noface_females))\n",
    "    pdf.write(5, \"\\n- There were {0} male images and {1} female images included. {2}x\".format(len(sizes[1]), len(sizes[0]), round(len(sizes[1])/len(sizes[0]), 4)))\n",
    "\n",
    "\n",
    "def scenes_where_no_face():\n",
    "    fig = plt.figure(figsize=(12, 6))\n",
    "    r2 = [x + barWidth for x in r1]\n",
    "    \n",
    "    scene_mf_ratios = np.divide(scenes_m, scenes_f)\n",
    "    order = np.argsort(scene_mf_ratios)\n",
    "    \n",
    "    biggest_diff_scenes = []\n",
    "    if first_pass and scene_mf_ratios[order[-1]] > 1.:\n",
    "        biggest_diff_scenes.append(\"{0} is the scene where the label of male is most likely to be picked over that of female\".format(xaxis[order[-1]]))\n",
    "    if first_pass and scene_mf_ratios[order[0]] < 1.:\n",
    "        biggest_diff_scenes.append(\"{0} is the scene where the label of female is most likely to be picked over that of male\".format(xaxis[order[0]]))\n",
    "    if len(biggest_diff_scenes) > 0:\n",
    "        to_write[1] = biggest_diff_scenes\n",
    "    \n",
    "    plt.barh(r2, scenes_m[order], height=barWidth, color=COLORS[1], edgecolor='white', label='male')\n",
    "    plt.barh(r1, scenes_f[order], height=barWidth, color=COLORS[0], edgecolor='white', label='female')\n",
    "    plt.yticks([r + (barWidth/2.) for r in range(len(r1))], np.array(xaxis)[order], fontsize=fontsize)\n",
    "    plt.xticks(fontsize=fontsize)\n",
    "    plt.ylabel('Scene', fontsize=fontsize)\n",
    "    plt.xlabel('Proportion of Images Discarded with this Scene', fontsize=fontsize)\n",
    "    plt.legend(loc='best', prop={'size': fontsize})\n",
    "    plt.title(\"Scenes where gender was labeled when it should not have been\", fontsize=fontsize)\n",
    "    plt.tight_layout()\n",
    "    plt.gcf().subplots_adjust(bottom=0.18)\n",
    "    plt.gcf().subplots_adjust(left=0.4)\n",
    "    plt.savefig(\"results/{0}/{1}/temp_scene.png\".format(folder_name, save_loc))\n",
    "    plt.show()\n",
    "    \n",
    "comparisons_widget = widgets.Dropdown(options=['Sizes', 'Distances', 'All sizes', 'Sizes where no face was detected'], value='Sizes')\n",
    "prob_v_freq_toggle = widgets.ToggleButton(value=True, description=\"Probability View\", layout=Layout(width='200px'))\n",
    "\n",
    "class scenes:\n",
    "    def save(self, b):\n",
    "        if b != '':\n",
    "            saved[0] = True\n",
    "            os.rename(\"results/{0}/{1}/temp_scene.png\".format(folder_name, save_loc), \"results/{0}/{1}/scenes_where_no_face.png\".format(folder_name, save_loc))\n",
    "            clear_output()\n",
    "            numbers_where_gender_inferred()\n",
    "            scenes_where_no_face()\n",
    "        save_button = widgets.Button(description=\"Click to save this graph to the summary pdf\", layout=Layout(width='350px'))\n",
    "        save_button.on_click(self.save)\n",
    "        output = widgets.Output()\n",
    "        display(save_button, output)\n",
    "\n",
    "\n",
    "def compare_sizedist(metric, view):\n",
    "    def mean_and_std(data, data_type):\n",
    "        f = data[0]\n",
    "        m = data[1]\n",
    "\n",
    "        histf, binsf = np.histogram(f, bins='auto')\n",
    "        histm, binsm = np.histogram(m, bins='auto')\n",
    "\n",
    "        if binsm[-1] > binsf[-1]:\n",
    "            bins = binsm\n",
    "        else:\n",
    "            bins = binsf\n",
    "        try:\n",
    "            biggest = max(max(f), max(m))\n",
    "        except ValueError:\n",
    "            biggest = 1.\n",
    "        prob_bins = np.arange(0, biggest, biggest / 15)\n",
    "        histf, _ = np.histogram(f, bins=prob_bins)\n",
    "        histm, _ = np.histogram(m, bins=prob_bins)\n",
    "        histf = histf/len(f)\n",
    "        histm = histm/len(m)\n",
    "        conditioned = np.divide(histf, histf+histm)\n",
    "        \n",
    "        f_mean = np.mean(f)\n",
    "        m_mean = np.mean(m)\n",
    "        f_std = np.std(f)\n",
    "        m_std = np.std(m)\n",
    "        t, p = stats.ttest_ind(f, m)\n",
    "        \n",
    "        to_save = False\n",
    "        if view is None and p < .05 and first_pass:\n",
    "            data_descrip = ''\n",
    "            if data_type == 'dists':\n",
    "                data_descrip = 'Distance from center'\n",
    "            if data_type == 'sizes':\n",
    "                data_descrip = 'Fraction of image taken up by a person'\n",
    "            to_write[2] = [\"(M1) {0} is different between the genders with a p-value of {1}, distribution shown below\".format(data_descrip, dec_to_show(p))]\n",
    "            to_save = True\n",
    "        \n",
    "        if view is None or view:\n",
    "\n",
    "            prob_v_freq_toggle.description = 'Probability view'\n",
    "            histogram_f, bins_f = np.histogram(f, bins='auto')\n",
    "            bin_centers_f = 0.5*(bins_f[1:] + bins_f[:-1])\n",
    "            area_f = np.trapz(histogram_f, x=bin_centers_f)\n",
    "            plt.plot(bin_centers_f, histogram_f/area_f, alpha=.75, label='female', color=COLORS[0])\n",
    "\n",
    "            histogram_m, bins_m = np.histogram(m, bins='auto')\n",
    "            bin_centers_m = 0.5*(bins_m[1:] + bins_m[:-1])\n",
    "            area_m = np.trapz(histogram_m, x=bin_centers_m)\n",
    "            plt.plot(bin_centers_m, histogram_m/area_m, alpha=.75, label='male', color=COLORS[1])\n",
    "            plt.legend(loc='upper right')\n",
    "            plt.xlabel('Distances' if data_type == 'distances' else 'Sizes')\n",
    "            plt.ylabel('Frequency')\n",
    "            if to_save and first_pass:\n",
    "                plt.savefig(\"results/{0}/{1}/0.png\".format(folder_name, save_loc))\n",
    "                plt.close()\n",
    "            elif view is None:\n",
    "                plt.close()\n",
    "            else:\n",
    "                plt.savefig(\"results/{0}/{1}/temp_compare_sizedist.png\".format(folder_name, save_loc))\n",
    "                plt.show()\n",
    "        else:\n",
    "            prob_v_freq_toggle.description = 'Frequency view'\n",
    "            plt.scatter(np.arange(len(conditioned)), conditioned)\n",
    "            plt.plot(np.arange(len(conditioned)), [.5] * len(conditioned), color='red')\n",
    "            plt.xticks(np.arange(len(conditioned)), ['{0} to {1}'.format(round(prob_bins[i], 2), round(prob_bins[i+1], 2)) for i in range(len(conditioned))], rotation='vertical', fontsize='6')\n",
    "            plt.xlabel('Distances' if data_type == 'distances' else 'Sizes')\n",
    "            plt.ylabel('Probability of Female')\n",
    "            plt.tight_layout()\n",
    "            plt.savefig(\"results/{0}/{1}/temp_compare_sizedist.png\".format(folder_name, save_loc))\n",
    "            plt.show()\n",
    "\n",
    "        if view is not None:\n",
    "            print(\"Female: {0} +- {1}\\n\".format(round(f_mean, 4), round(f_std, 4)))\n",
    "            print(\"Male: {0} +- {1}\\n\".format(round(m_mean, 4), round(m_std, 4)))\n",
    "            print(\"P value that they are different: {}\\n\".format('{:0.3e}'.format(p)))\n",
    "        \n",
    "\n",
    "    if metric == 'Sizes':\n",
    "        mean_and_std(sizes, 'sizes')\n",
    "    elif metric == 'All sizes':\n",
    "        mean_and_std(all_sizes, 'all_sizes')\n",
    "    elif metric == 'Sizes where no face was detected':\n",
    "        mean_and_std(no_faces, 'no_faces')  \n",
    "    elif metric == 'Distances': \n",
    "        mean_and_std(dists, 'dists')\n",
    "    elif metric == 'first_pass' and first_pass:\n",
    "        mean_and_std(sizes, 'sizes')\n",
    "        mean_and_std(dists, 'dists')\n",
    "\n",
    "class compare_sizedist_save:\n",
    "    def save(self, b):\n",
    "        global count_compare_sizedist\n",
    "        count_compare_sizedist = 0\n",
    "        if b != '':\n",
    "            saved[1] = True\n",
    "            count_compare_sizedist += 1\n",
    "            os.rename(\"results/{0}/{1}/temp_compare_sizedist.png\".format(folder_name, save_loc), \"results/{0}/{1}/compare_sizedist_{2}.png\".format(folder_name, save_loc, count_compare_sizedist))\n",
    "            clear_output()\n",
    "            all_things = [comparisons_widget, prob_v_freq_toggle]\n",
    "            ui = HBox(all_things)\n",
    "            out = widgets.interactive_output(compare_sizedist, {'metric': comparisons_widget, 'view': prob_v_freq_toggle})\n",
    "            display(ui, out)\n",
    "        save_button = widgets.Button(description=\"Click to save this graph to the summary pdf\", layout=Layout(width='350px'))\n",
    "        save_button.on_click(self.save)\n",
    "        output = widgets.Output()\n",
    "        display(save_button, output)"
   ]
  },
  {
   "cell_type": "markdown",
   "metadata": {},
   "source": [
    "## Analyses\n",
    "<a id=\"metric1_analyses\"></a>"
   ]
  },
  {
   "cell_type": "markdown",
   "metadata": {},
   "source": [
    "Statistics on how many gender labels were inferred when they shouldn't have been because the person was either too small, or no face was detected. The scenes where this happens are shown to investigate if perhaps annotators are relying on contextual clues to make this assumption."
   ]
  },
  {
   "cell_type": "markdown",
   "metadata": {},
   "source": [
    "# (M1) Metric: Distance from center, size, gender label inference\n",
    "<a id=\"metric1\"></a>"
   ]
  },
  {
   "cell_type": "code",
   "execution_count": 11,
   "metadata": {},
   "outputs": [
    {
     "name": "stdout",
     "output_type": "stream",
     "text": [
      "Total images: 22761, and 16168 were male, 6593 were female. 2.4523x\n",
      "Discarded 12 images for being too small, and 12 were male, 0 were female.\n",
      "Discarded 4165 images for having no face detected, and 3204 were male, 961 were female. 3.334x\n",
      "There were 12952 male images and 5632 female images included. 2.2997x\n",
      "\n",
      "Probability image is labeled male when it should not be, i.e. given there's no face detected or person is too small: 0.7699\n"
     ]
    },
    {
     "data": {
      "image/png": "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\n",
      "text/plain": [
       "<Figure size 864x432 with 1 Axes>"
      ]
     },
     "metadata": {
      "needs_background": "light"
     },
     "output_type": "display_data"
    },
    {
     "data": {
      "application/vnd.jupyter.widget-view+json": {
       "model_id": "d67beddbe8e94f4c87232bfd1bce8049",
       "version_major": 2,
       "version_minor": 0
      },
      "text/plain": [
       "Button(description='Click to save this graph to the summary pdf', layout=Layout(width='350px'), style=ButtonSt…"
      ]
     },
     "metadata": {},
     "output_type": "display_data"
    },
    {
     "data": {
      "application/vnd.jupyter.widget-view+json": {
       "model_id": "ad44220a9517413794d811c4bb6e82f5",
       "version_major": 2,
       "version_minor": 0
      },
      "text/plain": [
       "Output()"
      ]
     },
     "metadata": {},
     "output_type": "display_data"
    }
   ],
   "source": [
    "numbers_where_gender_inferred()\n",
    "scenes_where_no_face()\n",
    "scenes().save('')"
   ]
  },
  {
   "cell_type": "markdown",
   "metadata": {},
   "source": [
    "Distribution by gender of sizes and distances, both after removing images where gender was unlikely to be able to be labeled, all sizes before any images were removed, and the sizes of people where no face was detected. "
   ]
  },
  {
   "cell_type": "code",
   "execution_count": 12,
   "metadata": {},
   "outputs": [
    {
     "data": {
      "application/vnd.jupyter.widget-view+json": {
       "model_id": "1a65e37e1ca448ffa798a5ffede60323",
       "version_major": 2,
       "version_minor": 0
      },
      "text/plain": [
       "HBox(children=(Dropdown(options=('Sizes', 'Distances', 'All sizes', 'Sizes where no face was detected'), value…"
      ]
     },
     "metadata": {},
     "output_type": "display_data"
    },
    {
     "data": {
      "application/vnd.jupyter.widget-view+json": {
       "model_id": "380b32fdb1d5492eafad73a94ebb0984",
       "version_major": 2,
       "version_minor": 0
      },
      "text/plain": [
       "Output()"
      ]
     },
     "metadata": {},
     "output_type": "display_data"
    },
    {
     "data": {
      "application/vnd.jupyter.widget-view+json": {
       "model_id": "11f7701625f44ddea3a52f23062d6762",
       "version_major": 2,
       "version_minor": 0
      },
      "text/plain": [
       "Button(description='Click to save this graph to the summary pdf', layout=Layout(width='350px'), style=ButtonSt…"
      ]
     },
     "metadata": {},
     "output_type": "display_data"
    },
    {
     "data": {
      "application/vnd.jupyter.widget-view+json": {
       "model_id": "1aabeadbf5e64268a1615a9f6c1abdcb",
       "version_major": 2,
       "version_minor": 0
      },
      "text/plain": [
       "Output()"
      ]
     },
     "metadata": {},
     "output_type": "display_data"
    }
   ],
   "source": [
    "if first_pass:\n",
    "    compare_sizedist('first_pass', None)\n",
    "all_things = [comparisons_widget, prob_v_freq_toggle]\n",
    "ui = HBox(all_things)\n",
    "out = widgets.interactive_output(compare_sizedist, {'metric': comparisons_widget, 'view': prob_v_freq_toggle})\n",
    "display(ui, out)\n",
    "\n",
    "compare_sizedist_save().save('')"
   ]
  },
  {
   "cell_type": "markdown",
   "metadata": {},
   "source": [
    "# (M2) Metric: Object occurrences and cooccurrences\n",
    "<a id=\"metric2\"></a>"
   ]
  },
  {
   "cell_type": "markdown",
   "metadata": {},
   "source": [
    "## Setup\n",
    "<a id=\"metric2_setup\"></a>"
   ]
  },
  {
   "cell_type": "code",
   "execution_count": 13,
   "metadata": {},
   "outputs": [
    {
     "data": {
      "text/html": [
       "\n",
       "        <script>\n",
       "            function code_toggle_14881968729610446119() {\n",
       "                $('div.cell.code_cell.rendered.selected').next().find('div.input').toggle();\n",
       "            }\n",
       "\n",
       "            $('div.cell.code_cell.rendered.selected').find(\"div.input\").hide();\n",
       "        </script>\n",
       "\n",
       "        <a href=\"javascript:code_toggle_14881968729610446119()\">Show/hide M2 code</a>\n",
       "    "
      ],
      "text/plain": [
       "<IPython.core.display.HTML object>"
      ]
     },
     "execution_count": 13,
     "metadata": {},
     "output_type": "execute_result"
    }
   ],
   "source": [
    "hide_toggle(for_next=True, toggle_text='Show/hide M2 code')"
   ]
  },
  {
   "cell_type": "code",
   "execution_count": 14,
   "metadata": {},
   "outputs": [],
   "source": [
    "categories = dataset.categories\n",
    "names = dataset.labels_to_names\n",
    "counts = pickle.load(open(\"results/{}/2.pkl\".format(folder_name), \"rb\"))\n",
    "\n",
    "topn = 10\n",
    "counts_mat_f = np.zeros((len(categories), len(categories)))\n",
    "counts_mat_m = np.zeros((len(categories), len(categories)))\n",
    "\n",
    "# Create the cooccurrence matrix from the counts\n",
    "counts_f = counts[0]\n",
    "counts_m = counts[1]\n",
    "for key in counts_f.keys():\n",
    "    a, b = key.split('-')\n",
    "    a, b = int(a), int(b)\n",
    "    counts_mat_f[b][a] = counts_f[key]\n",
    "    counts_mat_f[a][b] = counts_f[key]\n",
    "    counts_mat_m[b][a] = counts_m[key]\n",
    "    counts_mat_m[a][b] = counts_m[key]\n",
    "instance_counts_f = np.diagonal(counts_mat_f)\n",
    "instance_counts_m = np.diagonal(counts_mat_m)\n",
    "normalized_f = np.divide(counts_mat_f, instance_counts_f)\n",
    "normalized_m = np.divide(counts_mat_m, instance_counts_m)\n",
    "\n",
    "def make_dist(counts, total):\n",
    "    samples = np.zeros(total)\n",
    "    samples[:int(counts)] = 1\n",
    "    return samples\n",
    "\n",
    "# Looking at if the number of times an object appears with different genders is statistically significant\n",
    "p_values = [stats.ttest_ind(make_dist(instance_counts_f[i], dataset.num_gender_images[0]), make_dist(instance_counts_m[i], dataset.num_gender_images[1]))[1] for i in range(len(instance_counts_f))]\n",
    "norm_instance_counts_f = instance_counts_f / dataset.num_gender_images[0]\n",
    "norm_instance_counts_m = instance_counts_m / dataset.num_gender_images[1]\n",
    "\n",
    "xaxis = [names[i] for i in categories]\n",
    "barWidth = .4\n",
    "\n",
    "# Graphs the counts of each supercategory by gender\n",
    "def supercategory_by_gender():\n",
    "    if dataset.group_mapping is not None:\n",
    "        fontsize = 15\n",
    "        supercategory_counts_f = np.zeros(len(datasets.GROUPINGS_TO_NAMES))\n",
    "        supercategory_counts_m = np.zeros(len(datasets.GROUPINGS_TO_NAMES))\n",
    "        for i in range(len(categories)):\n",
    "            supercat = dataset.group_mapping(categories[i])\n",
    "            supercategory_counts_f[supercat] += norm_instance_counts_f[i]\n",
    "            supercategory_counts_m[supercat] += norm_instance_counts_m[i]\n",
    "        supercategory_counts_f = supercategory_counts_f[1:]\n",
    "        supercategory_counts_m = supercategory_counts_m[1:]\n",
    "\n",
    "        supercategory_counts_f, supercategory_counts_m = np.array(supercategory_counts_f), np.array(supercategory_counts_m)\n",
    "\n",
    "        fig = plt.figure(figsize=(10, 6))\n",
    "        r1 = np.arange(len(datasets.GROUPINGS_TO_NAMES)-1)\n",
    "        r2 = [x + barWidth for x in r1]\n",
    "        order = np.argsort(np.divide(supercategory_counts_m, supercategory_counts_f))\n",
    "        plt.barh(r2, supercategory_counts_m[order], height=barWidth, color=COLORS[1], edgecolor='white', label='male')\n",
    "        plt.barh(r1, supercategory_counts_f[order], height=barWidth, color=COLORS[0], edgecolor='white', label='female')\n",
    "        plt.yticks([r + (barWidth/2.) for r in range(len(r1))], np.array([datasets.GROUPINGS_TO_NAMES[i+1] for i in range(len(r1))])[order], fontsize=fontsize)\n",
    "        plt.xticks(fontsize=fontsize)\n",
    "        plt.legend(loc='best', fontsize=fontsize)\n",
    "        plt.ylabel('Object Category', fontsize=fontsize, labelpad=20)\n",
    "        plt.xlabel('Fraction of Images that contain this Category', fontsize=fontsize, labelpad=20, x=.3)\n",
    "        plt.tight_layout()\n",
    "        plt.gcf().subplots_adjust(bottom=0.18)\n",
    "        plt.gcf().subplots_adjust(left=0.28)\n",
    "        if first_pass:\n",
    "            to_write[3] = ['(M2) Distribution of object categories each gender appears with, sorted by ratio between the two.']\n",
    "            plt.savefig(\"results/{0}/{1}/1.png\".format(folder_name, save_loc))\n",
    "        plt.show()\n",
    "        \n",
    "# Graphs the ratio of instance counts if they are statistically significant\n",
    "indices_to_keep = [i for i in range(len(instance_counts_f)) if categories[i] not in dataset.people_labels]\n",
    "instance_sig_f = norm_instance_counts_f[indices_to_keep]\n",
    "instance_sig_m = norm_instance_counts_m[indices_to_keep]\n",
    "xaxis_sig = np.array(xaxis)[indices_to_keep]\n",
    "pvalues_sig = np.array(p_values)[indices_to_keep]\n",
    "all_ratios = []\n",
    "\n",
    "for i in range(len(instance_sig_f)):\n",
    "    f_count = instance_sig_f[i]\n",
    "    m_count = instance_sig_m[i]\n",
    "    if f_count > m_count:\n",
    "        all_ratios.append(f_count / m_count)\n",
    "    else:\n",
    "        all_ratios.append(-m_count / f_count)\n",
    "\n",
    "    if np.absolute(all_ratios[-1]) <= 1:\n",
    "        all_ratios[-1] = 0\n",
    "\n",
    "all_ratios = np.array(all_ratios)\n",
    "\n",
    "def show_instance_ratios(sort_by, topn):\n",
    "    infinities = np.concatenate([np.where(all_ratios == -np.inf)[0], np.where(all_ratios == np.inf)[0]], axis=None)\n",
    "    \n",
    "    all_ratios[all_ratios == -np.inf] = 0\n",
    "    all_ratios[all_ratios == np.inf] = 0\n",
    "    \n",
    "    to_save = False\n",
    "    if topn is None:\n",
    "        topn = 5\n",
    "        to_save = True\n",
    "    \n",
    "    if sort_by == 'pvalue':\n",
    "        top_indices = np.argsort(pvalues_sig)[:topn][::-1]\n",
    "        if to_save:\n",
    "            for i in reversed(range(topn)):\n",
    "                if pvalues_sig[top_indices[i]] >= .05:\n",
    "                    top_indices.pop()\n",
    "            topn = len(top_indices)\n",
    "            if len(top_indices) == 0:\n",
    "                return\n",
    "                to_save = False\n",
    "    elif sort_by == 'ratio':\n",
    "        top_indices = np.argsort(np.absolute(all_ratios))[-topn:]\n",
    "    instance_sig_f_topn = instance_sig_f[top_indices]\n",
    "    instance_sig_m_topn = instance_sig_m[top_indices]\n",
    "    xaxis_sig_topn = xaxis_sig[top_indices]\n",
    "    all_ratios_topn = all_ratios[top_indices]\n",
    "\n",
    "    fig = plt.figure(figsize=(10, max(2, topn // 3)))\n",
    "    fontsize = 10\n",
    "    less_indices = np.where(np.array(all_ratios_topn) < 0)[0]\n",
    "    pltbar = plt.barh(np.arange(topn), np.absolute(all_ratios_topn))\n",
    "    for ind in less_indices:\n",
    "        pltbar[ind].set_color('C1')\n",
    "    plt.yticks(np.arange(topn), xaxis_sig_topn[:topn], rotation='horizontal', fontsize=fontsize)\n",
    "    ax = plt.gca()\n",
    "    ax.tick_params(axis=\"x\", bottom=True, top=True, labelbottom=True, labeltop=True)\n",
    "    ax.tick_params(axis=\"y\", left=False, right=True, labelleft=False, labelright=True)\n",
    "    plt.ylabel('Categories', fontsize=fontsize)\n",
    "    plt.xlabel('Counts Ratio', fontsize=fontsize)\n",
    "    patch1 = mpatches.Patch(color='C0', label='female')\n",
    "    patch2 = mpatches.Patch(color='C1', label='male')\n",
    "    handles = [patch1, patch2]\n",
    "    fontP = FontProperties()\n",
    "    fontP.set_size(12)\n",
    "    lgd = plt.legend(handles=handles, prop=fontP, loc='best')\n",
    "    plt.tight_layout()\n",
    "    plt.savefig(\"results/{0}/{1}/temp_instance_ratios.png\".format(folder_name, save_loc))\n",
    "    if to_save:\n",
    "        to_write[4] = ['(M2) Objects that are most statistically significantly represented with one gender over the other.']\n",
    "        plt.savefig(\"results/{0}/{1}/2.png\".format(folder_name, save_loc))\n",
    "        plt.close()\n",
    "        return\n",
    "    else:\n",
    "        plt.show()\n",
    "\n",
    "    if len(infinities) > 0:\n",
    "        print(\"Categories where one gender had 0 occurrences with that object:\\n\")\n",
    "        \n",
    "    # Categories where one gender had 0 occurrences with that object\n",
    "    for index in infinities:\n",
    "        print(\"{0}: F={1}, M={2}\\n\".format(xaxis_sig_topn[index], int(instance_sig_f_topn[index]*dataset.num_gender_images[0]), int(instance_sig_m_topn[index]*dataset.num_gender_images[1])))\n",
    "\n",
    "    print(\"Numbers for graph:\\n\")\n",
    "\n",
    "    for index in reversed(range(topn)):\n",
    "        print(\"{0}: F={1}, M={2}, rat: {3}\".format(xaxis_sig_topn[index], int(instance_sig_f_topn[index]*dataset.num_gender_images[0]), int(instance_sig_m_topn[index]*dataset.num_gender_images[1]), round(np.absolute(all_ratios_topn[index]), 4)))\n",
    "\n",
    "p_values = np.zeros_like(counts_mat_f)\n",
    "f_mi = np.zeros_like(counts_mat_f)\n",
    "m_mi = np.zeros_like(counts_mat_f)\n",
    "f_mi_wilson = np.zeros_like(counts_mat_f)\n",
    "m_mi_wilson = np.zeros_like(counts_mat_f)\n",
    "for i in range(len(categories)):\n",
    "    for j in range(len(categories)):\n",
    "        if categories[i] in dataset.people_labels or categories[j] in dataset.people_labels:\n",
    "            p_values[i][j] = -1\n",
    "        else:\n",
    "            len_f = instance_counts_f[j] + instance_counts_f[i] - counts_mat_f[i][j]\n",
    "            f = np.zeros(int(len_f))\n",
    "            f[:int(counts_mat_f[i][j])] = 1\n",
    "            len_m = instance_counts_m[j] + instance_counts_m[i] - counts_mat_m[i][j]\n",
    "            m = np.zeros(int(len_m))\n",
    "            m[:int(counts_mat_m[i][j])] = 1\n",
    "            f_mi[i][j] = np.mean(f)\n",
    "            m_mi[i][j] = np.mean(m)\n",
    "            f_mi_wilson[i][j] = wilson(np.mean(f), len_f)[0]\n",
    "            m_mi_wilson[i][j] = wilson(np.mean(m), len_m)[0]\n",
    "            p_values[i][j] = stats.ttest_ind(f, m)[1]\n",
    "\n",
    "flat_p = p_values.flatten()\n",
    "flat_p[flat_p!=flat_p] = float(\"inf\")\n",
    "flat_p[flat_p == -1] = float(\"inf\")\n",
    "normalized_indices = np.argsort(flat_p)\n",
    "\n",
    "class plot():\n",
    "    global count_instance_ratios\n",
    "    count_instance_ratios = 0\n",
    "    def save(self, b): \n",
    "        global count_instance_ratios\n",
    "        if b != '':\n",
    "            saved[2] = True\n",
    "            count_instance_ratios += 1\n",
    "            os.rename(\"results/{0}/{1}/temp_instance_ratios.png\".format(folder_name, save_loc), \"results/{0}/{1}/instance_ratios_{2}.png\".format(folder_name, save_loc, count_instance_ratios))\n",
    "            clear_output()\n",
    "            all_things = [instanceratio_sortby, instanceratio_slider]\n",
    "            ui = HBox(all_things)\n",
    "            out = widgets.interactive_output(show_instance_ratios, {'sort_by': instanceratio_sortby, 'topn': instanceratio_slider})\n",
    "            display(ui, out)\n",
    "        save_button = widgets.Button(description=\"Click to save this graph to the summary pdf\", layout=Layout(width='350px'))\n",
    "        save_button.on_click(self.save)\n",
    "        output = widgets.Output()\n",
    "        display(save_button, output)\n",
    "\n",
    "def cooccurrence_counts_mi(topn):\n",
    "    print(\"Statistically significant mutual information:\\n\")\n",
    "    i, j = 0, 0\n",
    "    while j < topn:\n",
    "        index = normalized_indices[i]\n",
    "        a, b = index % len(categories), index // len(categories)\n",
    "        if a < b:\n",
    "            print(\"{0} - {1}: {2}\".format(names[categories[a]], names[categories[b]], '{:0.3e}'.format(flat_p[index])))\n",
    "            print(\"F: {0}, M: {1}\".format(round(f_mi.flatten()[index], 4), round(m_mi.flatten()[index], 4)))\n",
    "            print()\n",
    "            j += 1\n",
    "        i += 1\n",
    "        \n",
    "        \n",
    "def print_cooccurrence_counts_mi(topn):\n",
    "    pdf.ln()\n",
    "    pdf.set_font('Arial', 'B', 10)\n",
    "    pdf.write(5, \"Statistically significant mutual information:\")\n",
    "    pdf.set_font('Arial', '', 10)\n",
    "    i, j = 0, 0\n",
    "    while j < topn:\n",
    "        index = normalized_indices[i]\n",
    "        a, b = index % len(categories), index // len(categories)\n",
    "        if a < b:\n",
    "            pdf.ln()\n",
    "            pdf.write(5, \"\\t\\t\\t\\t\\t{0} - {1}: {2}\".format(names[categories[a]], names[categories[b]], '{:0.3e}'.format(flat_p[index])))\n",
    "            pdf.ln()\n",
    "            pdf.write(5, \"\\t\\t\\t\\t\\tF: {0}, M: {1}\".format(round(f_mi.flatten()[index], 4), round(m_mi.flatten()[index], 4)))\n",
    "            pdf.ln(h = 2)\n",
    "            j += 1\n",
    "        i += 1"
   ]
  },
  {
   "cell_type": "markdown",
   "metadata": {},
   "source": [
    "## Analyses\n",
    "<a id=\"metric2_analyses\"></a>"
   ]
  },
  {
   "cell_type": "markdown",
   "metadata": {},
   "source": [
    "Distribution of object categories by gender"
   ]
  },
  {
   "cell_type": "code",
   "execution_count": 15,
   "metadata": {},
   "outputs": [
    {
     "data": {
      "image/png": "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\n",
      "text/plain": [
       "<Figure size 720x432 with 1 Axes>"
      ]
     },
     "metadata": {
      "needs_background": "light"
     },
     "output_type": "display_data"
    }
   ],
   "source": [
    "if dataset.group_mapping is not None:\n",
    "    supercategory_by_gender()"
   ]
  },
  {
   "cell_type": "markdown",
   "metadata": {},
   "source": [
    "Ratio between how often an object is represented with each gender (normalized), sorted by p-value or ratio."
   ]
  },
  {
   "cell_type": "code",
   "execution_count": 16,
   "metadata": {},
   "outputs": [
    {
     "data": {
      "application/vnd.jupyter.widget-view+json": {
       "model_id": "d22e8721943d4b739ea8746b98179d34",
       "version_major": 2,
       "version_minor": 0
      },
      "text/plain": [
       "HBox(children=(Dropdown(options=('pvalue', 'ratio'), value='pvalue'), IntSlider(value=11, max=50, min=5)))"
      ]
     },
     "metadata": {},
     "output_type": "display_data"
    },
    {
     "data": {
      "application/vnd.jupyter.widget-view+json": {
       "model_id": "749f51d184ac46d8a4d2c42e8d35afee",
       "version_major": 2,
       "version_minor": 0
      },
      "text/plain": [
       "Output()"
      ]
     },
     "metadata": {},
     "output_type": "display_data"
    },
    {
     "data": {
      "application/vnd.jupyter.widget-view+json": {
       "model_id": "907ce3cbc7c74201bffb688991a3080a",
       "version_major": 2,
       "version_minor": 0
      },
      "text/plain": [
       "Button(description='Click to save this graph to the summary pdf', layout=Layout(width='350px'), style=ButtonSt…"
      ]
     },
     "metadata": {},
     "output_type": "display_data"
    },
    {
     "data": {
      "application/vnd.jupyter.widget-view+json": {
       "model_id": "c1de67609a514ed5a780d9905f73e96d",
       "version_major": 2,
       "version_minor": 0
      },
      "text/plain": [
       "Output()"
      ]
     },
     "metadata": {},
     "output_type": "display_data"
    }
   ],
   "source": [
    "instanceratio_slider = widgets.IntSlider(min=5, max=50, step=1, value=10)\n",
    "instanceratio_sortby = widgets.Dropdown(options=['pvalue', 'ratio'], value='pvalue')\n",
    "\n",
    "if first_pass:\n",
    "    show_instance_ratios('pvalue', None)\n",
    "\n",
    "all_things = [instanceratio_sortby, instanceratio_slider]\n",
    "ui = HBox(all_things)\n",
    "out = widgets.interactive_output(show_instance_ratios, {'sort_by': instanceratio_sortby, 'topn': instanceratio_slider})\n",
    "display(ui, out)\n",
    "plot().save('')"
   ]
  },
  {
   "cell_type": "markdown",
   "metadata": {},
   "source": [
    "Most statistically significant object cooccurrences, measured by mutual information, between the genders. The p-value is shown for the difference of the distributions, and the numbers for \"F\" and \"M\" indicate the mutual information for each gender on the object pair."
   ]
  },
  {
   "cell_type": "code",
   "execution_count": 17,
   "metadata": {},
   "outputs": [
    {
     "data": {
      "application/vnd.jupyter.widget-view+json": {
       "model_id": "7e0ad1fdba5d4d1ba704732ab0b7dde7",
       "version_major": 2,
       "version_minor": 0
      },
      "text/plain": [
       "interactive(children=(IntSlider(value=10, description='topn', max=30, min=1), Output()), _dom_classes=('widget…"
      ]
     },
     "metadata": {},
     "output_type": "display_data"
    }
   ],
   "source": [
    "interact(cooccurrence_counts_mi, topn=widgets.IntSlider(min=1, max=30, step=1, value=10));"
   ]
  },
  {
   "cell_type": "markdown",
   "metadata": {},
   "source": [
    "# (M3) Metric : Distance from object as proxy for interaction\n",
    "<a id=\"metric3\"></a>"
   ]
  },
  {
   "cell_type": "markdown",
   "metadata": {},
   "source": [
    "## Setup\n",
    "<a id=\"metric3_setup\"></a>"
   ]
  },
  {
   "cell_type": "code",
   "execution_count": 18,
   "metadata": {},
   "outputs": [
    {
     "data": {
      "text/html": [
       "\n",
       "        <script>\n",
       "            function code_toggle_8258365201707449579() {\n",
       "                $('div.cell.code_cell.rendered.selected').next().find('div.input').toggle();\n",
       "            }\n",
       "\n",
       "            $('div.cell.code_cell.rendered.selected').find(\"div.input\").hide();\n",
       "        </script>\n",
       "\n",
       "        <a href=\"javascript:code_toggle_8258365201707449579()\">Show/hide M3 code</a>\n",
       "    "
      ],
      "text/plain": [
       "<IPython.core.display.HTML object>"
      ]
     },
     "execution_count": 18,
     "metadata": {},
     "output_type": "execute_result"
    }
   ],
   "source": [
    "hide_toggle(for_next=True, toggle_text='Show/hide M3 code')"
   ]
  },
  {
   "cell_type": "code",
   "execution_count": 19,
   "metadata": {},
   "outputs": [],
   "source": [
    "categories = dataset.categories\n",
    "names = dataset.labels_to_names\n",
    "distances = pickle.load(open(\"results/{}/3.pkl\".format(folder_name), \"rb\"))\n",
    "topn = 10\n",
    "\n",
    "f_all_dists = []\n",
    "m_all_dists = []\n",
    "f_distr_dists = []\n",
    "m_distr_dists = []\n",
    "p_values = []\n",
    "file_paths_f = []\n",
    "file_paths_m = []\n",
    "indices_f = []\n",
    "indices_m = []\n",
    "# Calculates the distances from person to each instance, and if it's a statistically significant difference\n",
    "for i in range(len(categories)):\n",
    "    f_dist = np.array([ (chunk[0] / np.sqrt(chunk[1]*chunk[2])) for chunk in distances[i][0] if chunk[2] != 0 and chunk[1] != 0])\n",
    "    m_dist = np.array([ (chunk[0] / np.sqrt(chunk[1]*chunk[2])) for chunk in distances[i][1] if chunk[2] != 0 and chunk[1] != 0])\n",
    "    f_file = np.array([ chunk[3] for chunk in distances[i][0] if chunk[2] != 0 and chunk[1] != 0])\n",
    "    m_file = np.array([ chunk[3] for chunk in distances[i][1] if chunk[2] != 0 and chunk[1] != 0])\n",
    "    f_index = np.array([ chunk[4] for chunk in distances[i][0] if chunk[2] != 0 and chunk[1] != 0])\n",
    "    m_index = np.array([ chunk[4] for chunk in distances[i][1] if chunk[2] != 0 and chunk[1] != 0])\n",
    "    t, p = stats.ttest_ind(f_dist, m_dist)\n",
    "    p_values.append(p)\n",
    "    f_distr_dists.append(f_dist)\n",
    "    m_distr_dists.append(m_dist)\n",
    "    f_all_dists.append(np.mean(f_dist))\n",
    "    m_all_dists.append(np.mean(m_dist))\n",
    "    file_paths_f.append(f_file)\n",
    "    file_paths_m.append(m_file)\n",
    "    indices_f.append(f_index)\n",
    "    indices_m.append(m_index)\n",
    "f_all_dists, m_all_dists = np.array(f_all_dists), np.array(m_all_dists)\n",
    "\n",
    "xaxis = [names[i] for i in categories]\n",
    "\n",
    "# Only retaining inforamtion for distances that are statistically significantly different, and are not people\n",
    "indices_to_keep = [i for i in range(len(f_all_dists)) if categories[i] not in dataset.people_labels]\n",
    "f_sig_dists = f_all_dists[indices_to_keep]\n",
    "m_sig_dists = m_all_dists[indices_to_keep]\n",
    "f_distr_dists = np.array(f_distr_dists)[indices_to_keep]\n",
    "m_distr_dists = np.array(m_distr_dists)[indices_to_keep]\n",
    "file_paths_f = np.array(file_paths_f)[indices_to_keep]\n",
    "file_paths_m = np.array(file_paths_m)[indices_to_keep]\n",
    "indices_f = np.array(indices_f)[indices_to_keep] \n",
    "indices_m = np.array(indices_m)[indices_to_keep] \n",
    "xaxis_sig = np.array(xaxis)[indices_to_keep]\n",
    "pvalues_sig = np.array(p_values)[indices_to_keep]\n",
    "\n",
    "all_ratios = []\n",
    "for i in range(len(f_sig_dists)):\n",
    "    f_count = f_sig_dists[i]\n",
    "    m_count = m_sig_dists[i]\n",
    "    if f_count > m_count:\n",
    "        all_ratios.append(f_count / m_count)\n",
    "    else:\n",
    "        all_ratios.append(m_count / -f_count)\n",
    "    if np.absolute(all_ratios[-1]) <= 1:\n",
    "        all_ratios[-1] = 0\n",
    "all_ratios = np.array(all_ratios)\n",
    "\n",
    "distance_ratio_options = [(\"{0}: p-value {1}, {2}x\".format(xaxis_sig[i], '{:0.2e}'.format(pvalues_sig[i]), round(all_ratios[i], 3)), i) for i in np.argsort(pvalues_sig)]\n",
    "\n",
    "def show_distance_ratios(sort_by, topn):\n",
    "\n",
    "    if sort_by == 'pvalue':\n",
    "        top_indices = np.argsort(pvalues_sig)[:topn][::-1]\n",
    "    elif sort_by == 'ratio':\n",
    "        top_indices = np.argsort(np.absolute(all_ratios))[-topn:]\n",
    "        \n",
    "    fontsize = 10\n",
    "    fig = plt.figure(figsize=(8, max(2, topn // 3)))\n",
    "    \n",
    "    all_ratios_topn = all_ratios[top_indices]\n",
    "    xaxis_sig_topn = xaxis_sig[top_indices]\n",
    "\n",
    "    negatives = np.where(all_ratios_topn > 0)[0]\n",
    "    pltbar = plt.barh(np.arange(topn), np.absolute(all_ratios_topn), tick_label=xaxis_sig_topn)\n",
    "    for neg in negatives:\n",
    "        pltbar[neg].set_color('C1')\n",
    "    patch1 = mpatches.Patch(color='C0', label='female')\n",
    "    patch2 = mpatches.Patch(color='C1', label='male')\n",
    "    handles = [patch1, patch2]\n",
    "    fontP = FontProperties()\n",
    "    fontP.set_size(12)\n",
    "    lgd = plt.legend(handles=handles, prop=fontP)\n",
    "    plt.xlabel('Categories', fontsize=fontsize)\n",
    "    plt.ylabel('Distance Ratio', fontsize=fontsize)\n",
    "    plt.title('Ratio of Distance Between an Object and Person by Gender, Sorted by ' + str(sort_by), fontsize=fontsize)\n",
    "    plt.xticks(fontsize=fontsize)\n",
    "    plt.yticks(fontsize=fontsize)\n",
    "    plt.tight_layout()\n",
    "    plt.savefig(\"results/{0}/{1}/temp_distance_ratio.png\".format(folder_name, save_loc))\n",
    "    plt.show()\n",
    "\n",
    "distanceratio_slider = widgets.IntSlider(min=5, max=50, step=1, value=10)\n",
    "distanceratio_sortby = widgets.Dropdown(options=['pvalue', 'ratio'], value='pvalue')\n",
    "\n",
    "class save_figure():\n",
    "    global count_distance_ratio\n",
    "    count_distance_ratio = 0\n",
    "    def save(self, b): \n",
    "        if b != '':\n",
    "            saved[3] = True\n",
    "            global count_distance_ratio\n",
    "            count_distance_ratio += 1\n",
    "            os.rename(\"results/{0}/{1}/temp_distance_ratio.png\".format(folder_name, save_loc), \"results/{0}/{1}/distanceRatio{2}.png\".format(folder_name, save_loc, count_distance_ratio))\n",
    "            clear_output()\n",
    "            all_things = [distanceratio_sortby, distanceratio_slider]\n",
    "            ui = HBox(all_things)\n",
    "            out = widgets.interactive_output(show_distance_ratios, {'sort_by': distanceratio_sortby, 'topn': distanceratio_slider})\n",
    "            display(ui, out)\n",
    "        save_button = widgets.Button(description=\"Click to save this graph to the summary pdf\", layout=Layout(width='350px'))\n",
    "        save_button.on_click(self.save)\n",
    "        output = widgets.Output()\n",
    "        display(save_button, output)\n",
    "\n",
    "def set_box_color(bp, color):\n",
    "    plt.setp(bp['boxes'], color=color)\n",
    "    plt.setp(bp['whiskers'], color=color)\n",
    "    plt.setp(bp['caps'], color=color)\n",
    "    plt.setp(bp['medians'], color=color)\n",
    "\n",
    "def find_nearest(array, value):\n",
    "    array = np.asarray(array)\n",
    "    idx = (np.abs(array - value)).argmin()\n",
    "    return idx\n",
    "\n",
    "    save_box_images(bpf, f, file_paths_f[i*20:(i+1)*20], indices_f[i*20:(i+1)*20], \n",
    "        bpm, m, file_paths_m[i*20:(i+1)*20], indices_m[i*20:(i+1)*20],\n",
    "        xaxis_sig[i*20:(i+1)*20], boxfolder)\n",
    "\n",
    "# Saves qualitative images for each of the quartiles of distance\n",
    "def save_box_images(bpf, f_array, file_paths_f, indices_f, bpm, m_array, file_paths_m, indices_m, names, to_save=False):\n",
    "    a = bpf['whiskers'][0].get_data()[1][1]\n",
    "    b = bpf['whiskers'][0].get_data()[1][0]\n",
    "    c = bpf['medians'][0].get_data()[1][0]\n",
    "    d = bpf['whiskers'][1].get_data()[1][0]\n",
    "    e = bpf['whiskers'][1].get_data()[1][1]\n",
    "    box_nums_f = [a, b, c, d, e]\n",
    "    a = bpm['whiskers'][0].get_data()[1][1]\n",
    "    b = bpm['whiskers'][0].get_data()[1][0]\n",
    "    c = bpm['medians'][0].get_data()[1][0]\n",
    "    d = bpm['whiskers'][1].get_data()[1][0]\n",
    "    e = bpm['whiskers'][1].get_data()[1][1]\n",
    "    box_nums_m = [a, b, c, d, e]\n",
    "    fig = plt.figure(figsize=(16, 8))\n",
    "    for j in range(5):\n",
    "        for k in range(2):\n",
    "            if k == 0:\n",
    "                index = find_nearest(f_array, box_nums_f[j])\n",
    "                indices = indices_f\n",
    "                file_paths = file_paths_f\n",
    "                gender = 'f'\n",
    "            else:\n",
    "                index = find_nearest(m_array, box_nums_m[j])\n",
    "                indices = indices_m\n",
    "                file_paths = file_paths_m\n",
    "                gender = 'm'\n",
    "            file_path = file_paths[index]\n",
    "            ann_index = indices[index]\n",
    "            image, anns = dataset.from_path(file_path)\n",
    "            image = image.data.cpu().numpy().transpose(1, 2, 0)\n",
    "            ann = anns[0][ann_index]['bbox']\n",
    "            ann_0 = (ann[0]*image.shape[1], ann[2]*image.shape[0])\n",
    "            ann_w = (ann[1]-ann[0])*image.shape[1]\n",
    "            ann_h = (ann[3]-ann[2])*image.shape[0]\n",
    "            per = anns[1][1]\n",
    "            per_0 = (per[0]*image.shape[1], per[2]*image.shape[0])\n",
    "            per_w = (per[1]-per[0])*image.shape[1]\n",
    "            per_h = (per[3]-per[2])*image.shape[0]\n",
    "\n",
    "            if k == 0:\n",
    "                ax = fig.add_subplot(2, 5, j+1)\n",
    "            else:\n",
    "                ax = fig.add_subplot(2, 5, j+6)\n",
    "            rect = patches.Rectangle(ann_0,ann_w, ann_h, linewidth=2,edgecolor='b',facecolor='none')\n",
    "            ax.add_patch(rect)\n",
    "            rect = patches.Rectangle(per_0,per_w, per_h, linewidth=2,edgecolor='r',facecolor='none')\n",
    "            ax.add_patch(rect)\n",
    "\n",
    "            title = 'min'\n",
    "            if j == 1:\n",
    "                title = 'lower quartile'\n",
    "            elif j == 2:\n",
    "                title = 'median'\n",
    "            elif j == 3:\n",
    "                title = 'upper quartile'\n",
    "            elif j == 4:\n",
    "                title = 'max'\n",
    "            ax.set_title(gender.upper() + ': ' + title, fontsize=22)\n",
    "            ax.axis(\"off\")\n",
    "            im = ax.imshow(image, alpha=.66)\n",
    "\n",
    "    if to_save:\n",
    "        if np.mean(f_array) < np.mean(m_array):\n",
    "            closer_sent = 'Females are closer than males.'\n",
    "        else:\n",
    "            closer_sent = 'Males are closer than females.'\n",
    "        to_write[5] = [\"(M3) Qualitative example of {0}, which has the biggest ratio in distance between object and person (which can be interpreted as a proxy for interaction) between the genders. \".format(names) + closer_sent + \" There is a red box around the person, and blue box around the object.\"]\n",
    "        plt.savefig(\"results/{0}/{1}/3.png\".format(folder_name, save_loc))\n",
    "        plt.close()\n",
    "    else:\n",
    "        plt.show()\n",
    "\n",
    "def qualitative_boxexamples(cat_index):\n",
    "    to_save = False\n",
    "    if cat_index is None and first_pass:\n",
    "        to_save = True\n",
    "        cat_index = distance_ratio_options[0][1]\n",
    "        \n",
    "    f = f_distr_dists[cat_index]\n",
    "    m = m_distr_dists[cat_index]\n",
    "\n",
    "    bpf = plt.boxplot(f, sym='', widths=0.6)\n",
    "    bpm = plt.boxplot(m, sym='', widths=0.6)\n",
    "    plt.close()\n",
    "\n",
    "    save_box_images(bpf, f, file_paths_f[cat_index], indices_f[cat_index], \n",
    "        bpm, m, file_paths_m[cat_index], indices_m[cat_index],\n",
    "        xaxis_sig[cat_index], to_save)"
   ]
  },
  {
   "cell_type": "markdown",
   "metadata": {},
   "source": [
    "## Analyses\n",
    "<a id=\"metric3_analyses\"></a>"
   ]
  },
  {
   "cell_type": "markdown",
   "metadata": {},
   "source": [
    "Ratio of distance between an object and person by gender, sorted by p-value or ratio."
   ]
  },
  {
   "cell_type": "code",
   "execution_count": 20,
   "metadata": {},
   "outputs": [
    {
     "data": {
      "application/vnd.jupyter.widget-view+json": {
       "model_id": "91e119caaee8406dbc4f8c40d773fc45",
       "version_major": 2,
       "version_minor": 0
      },
      "text/plain": [
       "HBox(children=(Dropdown(options=('pvalue', 'ratio'), value='pvalue'), IntSlider(value=10, max=50, min=5)))"
      ]
     },
     "metadata": {},
     "output_type": "display_data"
    },
    {
     "data": {
      "application/vnd.jupyter.widget-view+json": {
       "model_id": "0cb1b9b5daf7403a90ff99fb9f39436a",
       "version_major": 2,
       "version_minor": 0
      },
      "text/plain": [
       "Output()"
      ]
     },
     "metadata": {},
     "output_type": "display_data"
    },
    {
     "data": {
      "application/vnd.jupyter.widget-view+json": {
       "model_id": "830fa5502d034a1ba310e1d0455ad572",
       "version_major": 2,
       "version_minor": 0
      },
      "text/plain": [
       "Button(description='Click to save this graph to the summary pdf', layout=Layout(width='350px'), style=ButtonSt…"
      ]
     },
     "metadata": {},
     "output_type": "display_data"
    },
    {
     "data": {
      "application/vnd.jupyter.widget-view+json": {
       "model_id": "808854f2a0b54ba086c548c229af3b48",
       "version_major": 2,
       "version_minor": 0
      },
      "text/plain": [
       "Output()"
      ]
     },
     "metadata": {},
     "output_type": "display_data"
    }
   ],
   "source": [
    "all_things = [distanceratio_sortby, distanceratio_slider]\n",
    "ui = HBox(all_things)\n",
    "out = widgets.interactive_output(show_distance_ratios, {'sort_by': distanceratio_sortby, 'topn': distanceratio_slider})\n",
    "display(ui, out)\n",
    "save_figure().save('')"
   ]
  },
  {
   "cell_type": "markdown",
   "metadata": {},
   "source": [
    "Qualitative examples of person (red box) of each gender with the object (red box), representing the different quartiles of distance. The values in the dropdown menu represent the p-value for the independence of the female and male distance distributions, and the ratio is that of distance between male and female, where negative means it is closer for females, and positive means it is closer for males."
   ]
  },
  {
   "cell_type": "code",
   "execution_count": 21,
   "metadata": {},
   "outputs": [
    {
     "data": {
      "application/vnd.jupyter.widget-view+json": {
       "model_id": "bb9bad8876d44042aecde9721a9c40b1",
       "version_major": 2,
       "version_minor": 0
      },
      "text/plain": [
       "interactive(children=(Dropdown(description='cat_index', layout=Layout(width='400px'), options=(('handbag: p-va…"
      ]
     },
     "metadata": {},
     "output_type": "display_data"
    }
   ],
   "source": [
    "if first_pass:\n",
    "    qualitative_boxexamples(None)\n",
    "interact(qualitative_boxexamples, cat_index=widgets.Dropdown(options=distance_ratio_options, layout=Layout(width='400px')));"
   ]
  },
  {
   "cell_type": "markdown",
   "metadata": {},
   "source": [
    "# (M4) Metric: Linearly separable objects by gender\n",
    "<a id=\"metric4\"></a>"
   ]
  },
  {
   "cell_type": "markdown",
   "metadata": {},
   "source": [
    "## Setup\n",
    "<a id=\"metric4_setup\"></a>"
   ]
  },
  {
   "cell_type": "code",
   "execution_count": 22,
   "metadata": {},
   "outputs": [
    {
     "data": {
      "text/html": [
       "\n",
       "        <script>\n",
       "            function code_toggle_16839297920861310274() {\n",
       "                $('div.cell.code_cell.rendered.selected').next().find('div.input').toggle();\n",
       "            }\n",
       "\n",
       "            $('div.cell.code_cell.rendered.selected').find(\"div.input\").hide();\n",
       "        </script>\n",
       "\n",
       "        <a href=\"javascript:code_toggle_16839297920861310274()\">Show/hide M4 code</a>\n",
       "    "
      ],
      "text/plain": [
       "<IPython.core.display.HTML object>"
      ]
     },
     "execution_count": 22,
     "metadata": {},
     "output_type": "execute_result"
    }
   ],
   "source": [
    "hide_toggle(for_next=True, toggle_text='Show/hide M4 code')"
   ]
  },
  {
   "cell_type": "code",
   "execution_count": 23,
   "metadata": {},
   "outputs": [],
   "source": [
    "if not os.path.exists(\"results/{0}/4/\".format(folder_name)):\n",
    "    os.mkdir(\"results/{0}/4/\".format(folder_name))\n",
    "categories = dataset.categories\n",
    "names = dataset.labels_to_names\n",
    "stats_dict = pickle.load(open(\"results/{}/4.pkl\".format(folder_name), \"rb\"))\n",
    "instances = stats_dict['instance']\n",
    "scenes = stats_dict['scene']\n",
    "scene_filepaths = stats_dict['scene_filepaths']\n",
    "\n",
    "file_name = 'categories_places365.txt'\n",
    "if not os.access(file_name, os.W_OK):\n",
    "    synset_url = 'https://raw.githubusercontent.com/csailvision/places365/master/categories_places365.txt'\n",
    "    os.system('wget ' + synset_url)\n",
    "classes = list()\n",
    "with open(file_name) as class_file:\n",
    "    for line in class_file:\n",
    "        classes.append(line.strip().split(' ')[0][3:])\n",
    "scene_classes = tuple(classes)\n",
    "\n",
    "topn = 15\n",
    "\n",
    "plot_kwds = {'alpha' : .8, 's' : 30, 'linewidths':0}\n",
    "\n",
    "instance_p_values = []\n",
    "scene_p_values = []\n",
    "\n",
    "file.write(\"SVM accuracies\\n\")\n",
    "\n",
    "if not os.path.exists(\"checkpoints/{}/4.pkl\".format(folder_name)):\n",
    "    value_to_phrase = {}\n",
    "    value_to_scenephrase = {}\n",
    "    for i in range(len(categories)):\n",
    "        # SVM's to classify between an object's features for the genders\n",
    "        clf = svm.SVC(kernel='linear', probability=False)\n",
    "        clf_prob = svm.SVC(kernel='linear', probability=True)\n",
    "        clf_random = svm.SVC(kernel='linear', probability=False)\n",
    "        if len(instances[i][0]) < 1 or len(instances[i][1]) < 1 or len(scenes[i][0]) < 1 or len(scenes[i][1]) < 1:\n",
    "            scene_p_values.append(float('inf'))\n",
    "            instance_p_values.append(float('inf'))\n",
    "            continue\n",
    "        features_instances = np.concatenate([instances[i][0], instances[i][1]], axis=0)\n",
    "        boundary_instances = len(instances[i][0])\n",
    "        features_scenes = np.concatenate([scenes[i][0], scenes[i][1]], axis=0)\n",
    "        boundary_scenes = len(scenes[i][0])\n",
    "\n",
    "#         # Uncomment to visualize features of cropped object, saved as a png\n",
    "#         projection_instances = TSNE().fit_transform(features_instances)\n",
    "#         plt.scatter(*projection_instances.T, **plot_kwds, c=[COLORS[0] if i < boundary_instances else COLORS[1] for i in range(len(projection_instances))])\n",
    "#         plt.savefig(\"results/{0}/{1}/instances_{2}.png\".format(folder_name, 4, i))\n",
    "#         plt.close()\n",
    "\n",
    "        t, p = stats.ttest_ind(instances[i][0], instances[i][1])\n",
    "        instance_p_values.append(np.nanmean(p))\n",
    "\n",
    "#         # Uncomment to visualize features of entire scene, saved as a png\n",
    "#         projection_scenes = TSNE().fit_transform(features_scenes)\n",
    "#         plt.scatter(*projection_scenes.T, **plot_kwds, c=[COLORS[0] if i < boundary_scenes else COLORS[1] for i in range(len(projection_scenes))])\n",
    "#         plt.savefig(\"results/{0}/{1}/scenes_{2}.png\".format(folder_name, 4, i))\n",
    "#         plt.close()\n",
    "\n",
    "        t, p = stats.ttest_ind(scenes[i][0], scenes[i][1])\n",
    "        scene_p_values.append(np.nanmean(p))\n",
    "        num_features = int(np.sqrt(len(features_scenes)))\n",
    "\n",
    "        labels = np.zeros(len(features_scenes))\n",
    "        labels[len(scenes[i][0]):] = 1\n",
    "        projected_features_scenes = project(features_scenes, num_features)\n",
    "        clf.fit(projected_features_scenes, labels)\n",
    "        clf_prob.fit(projected_features_scenes, labels)\n",
    "        acc = clf.score(projected_features_scenes, labels)\n",
    "        probs = clf.decision_function(projected_features_scenes)\n",
    "        scaled_probs = clf_prob.predict_proba(projected_features_scenes)\n",
    "        a_probs = []\n",
    "        b_probs = []\n",
    "        preds = clf.predict(projected_features_scenes)\n",
    "        scenes_per_gender = [[[], []] for i in range(len(scene_classes))]\n",
    "        for j in range(len(features_scenes)):\n",
    "\n",
    "            if j < len(scenes[i][0]):\n",
    "                a_probs.append(-probs[j])\n",
    "                this_scene = scene_filepaths[i][0][j][1]\n",
    "                scenes_per_gender[this_scene][0].append(np.absolute(scaled_probs[j][0]))\n",
    "            else:\n",
    "                b_probs.append(probs[j])\n",
    "                this_scene = scene_filepaths[i][1][j - len(scenes[i][0])][1]\n",
    "                scenes_per_gender[this_scene][1].append(np.absolute(scaled_probs[j][1]))\n",
    "        a_indices = np.argsort(np.array(a_probs))\n",
    "        b_indices = np.argsort(np.array(b_probs))\n",
    "\n",
    "        pickle.dump([a_indices, b_indices, scene_filepaths[i], a_probs, b_probs], open(\"results/{0}/4/{1}_info.pkl\".format(folder_name, names[categories[i]]), \"wb\"))\n",
    "\n",
    "        np.random.shuffle(projected_features_scenes)\n",
    "        clf_random.fit(projected_features_scenes, labels)\n",
    "        acc_random = clf_random.score(projected_features_scenes, labels)\n",
    "        value = acc / acc_random\n",
    "        \n",
    "        if value <= 1.2 and acc <= .7 and len(labels) < 25: # can tune as desired\n",
    "            continue\n",
    "            \n",
    "        amount = len(features_instances)\n",
    "        right_labels = np.zeros(amount)[:int(acc*amount)] = 1\n",
    "        wrong_labels = np.zeros(amount)[:int(acc_random*amount)] = 1\n",
    "        t, p = stats.ttest_ind(right_labels, wrong_labels)\n",
    "        phrase = [acc/acc_random, names[categories[i]], acc, len(features_instances), acc_random, num_features]\n",
    "        value_to_phrase[i] = phrase\n",
    "\n",
    "        for j in range(len(scene_classes)):\n",
    "            a_dists = scenes_per_gender[j][0]\n",
    "            b_dists = scenes_per_gender[j][1]\n",
    "            a = np.zeros(len(scenes[i][0]))\n",
    "            a[:len(a_dists)] = 1 #a_dists\n",
    "            b = np.zeros(len(scenes[i][1]))\n",
    "            b[:len(b_dists)] = 1 #b_dists\n",
    "            _, p = stats.ttest_ind(a, b)\n",
    "            if not np.isnan(p):\n",
    "                value_to_scenephrase[p] = [names[categories[i]], scene_classes[j], len(a_dists), len(a), len(b_dists), len(b)]\n",
    "    pickle.dump([value_to_phrase, value_to_scenephrase], open(\"checkpoints/{}/4.pkl\".format(folder_name), 'wb'))\n",
    "else:\n",
    "    value_to_phrase, value_to_scenephrase = pickle.load(open(\"checkpoints/{}/4.pkl\".format(folder_name), 'rb'))\n",
    "        \n",
    "def label_svm_qual(category, num):\n",
    "    to_save = False\n",
    "    value, name, acc, num_examples, acc_random, num_features = value_to_phrase[category]\n",
    "    a_indices, b_indices, scene_filepaths, a_probs, b_probs = pickle.load(open(\"results/{0}/4/{1}_info.pkl\".format(folder_name, name), \"rb\"))\n",
    "    print_statement = \"{3}: Accuracy: {0}%, {1}x with {2} features\\n\".format(round(acc*100., 3), round(value, 3), num_features, name)\n",
    "    if num is None and first_pass:\n",
    "        to_save = True\n",
    "        num = 5\n",
    "        to_write[6] = [\"(M4) To discern if there is an appearance difference in how females and males are imaged with an object, we extract scene-level features from each image, and fit a linear SVM to distinguish between the two.\\nAn example of the most linearly separable object between genders: {}\".format(name), print_statement]\n",
    "    else:\n",
    "        print(print_statement)\n",
    "    \n",
    "    the_indices = [a_indices, b_indices]\n",
    "    the_probs = [a_probs, b_probs]\n",
    "    \n",
    "    def display_chunk(b=0, correct=True, to_save=False, name=None):\n",
    "        this_filepaths = scene_filepaths[b]\n",
    "        this_indices = the_indices[b]\n",
    "        this_probs = the_probs[b]\n",
    "        collected_filepaths = []\n",
    "        \n",
    "        if correct:\n",
    "            counter = 0\n",
    "        else:\n",
    "            counter = -1\n",
    "        while len(collected_filepaths) < num:\n",
    "            try:\n",
    "                index = this_indices[counter]\n",
    "            except:\n",
    "                break\n",
    "            file_path = this_filepaths[index][0]\n",
    "            if (this_probs[index] > 0 and correct) or (this_probs[index] < 0 and not correct):\n",
    "                collected_filepaths.append(file_path)\n",
    "            if correct:\n",
    "                counter += 1\n",
    "            else:\n",
    "                counter -= -1\n",
    "        if to_save and first_pass:\n",
    "            this_loc = \"results/{0}/{1}/4_{2}.png\".format(folder_name, save_loc, name)\n",
    "            if len(collected_filepaths) > 0:\n",
    "                fig = plt.figure(figsize=(16, 8))\n",
    "                for i in range(num):\n",
    "                    ax = fig.add_subplot(1, num, i+1)\n",
    "                    ax.axis(\"off\")\n",
    "                    if i >= len(collected_filepaths):\n",
    "                        image = np.ones((3, 3, 3))\n",
    "                    else:\n",
    "                        image, _ = dataset.from_path(collected_filepaths[i])\n",
    "                        image = image.data.cpu().numpy().transpose(1, 2, 0)\n",
    "                    im = ax.imshow(image, extent=SAME_EXTENT)\n",
    "                plt.tight_layout()\n",
    "                plt.savefig(this_loc, bbox_inches = 'tight')\n",
    "                plt.close()\n",
    "            else:\n",
    "                os.system(\"cp util_files/no_images.png {}\".format(this_loc))\n",
    "        elif len(collected_filepaths) > 0:\n",
    "            display_filepaths(collected_filepaths, width = 800//len(collected_filepaths), height=800//len(collected_filepaths))\n",
    "        else:\n",
    "            print(\"No images in this category\")\n",
    "    if not to_save:\n",
    "        print(\"Female: Correct\")\n",
    "    else:\n",
    "        to_write[6].append(\"Female: Correct\")\n",
    "    display_chunk(0, True, to_save, 'a')\n",
    "    if not to_save:\n",
    "        print(\"Female: Incorrect\")\n",
    "    else:\n",
    "        to_write[6].append(\"Female: Incorrect\")\n",
    "    display_chunk(0, False, to_save, 'b')\n",
    "    if not to_save:\n",
    "        print(\"Male: Incorrect\")\n",
    "    else:\n",
    "        to_write[6].append(\"Male: Incorrect\")\n",
    "    display_chunk(1, False, to_save, 'c')\n",
    "    if not to_save:\n",
    "        print(\"Male: Correct\")\n",
    "    else:\n",
    "        to_write[6].append(\"Male: Correct\")\n",
    "    display_chunk(1, True, to_save, 'd')\n",
    "\n",
    "cat_svm_options = []\n",
    "most_different_cat_value = 1.2\n",
    "most_different_cat = None\n",
    "for index, phrase in sorted(value_to_phrase.items(), key=lambda kv: kv[1][0], reverse=True):\n",
    "    value, name, acc, num_examples, acc_random, num_features = value_to_phrase[index]\n",
    "    if acc > .75 and value > most_different_cat_value and num_features > 5:\n",
    "        most_different_cat_value = value\n",
    "        most_different_cat = index\n",
    "    if num_features > 5:\n",
    "        cat_svm_options.append(('{0}: {1}% and {2}x'.format(name, round(100.*acc, 2), round(value, 3)), index))\n",
    "\n",
    "def instance_diff_by_scene(topn):\n",
    "    print(\"\\nInstance differences by scene between genders\\n\")\n",
    "    i = 0\n",
    "    for value, phrase in sorted(value_to_scenephrase.items(), key=lambda kv: kv[0], reverse=False):\n",
    "        print(\"{0} p-value, {1}: in {2} for {3} of {4} females, and {5} of {6} males\".format(dec_to_show(value), phrase[0], phrase[1], phrase[2], phrase[3], phrase[4], phrase[5]))\n",
    "        if i == topn:\n",
    "            break\n",
    "        i += 1\n",
    "\n",
    "def print_instance_diff_by_scene(topn):\n",
    "    pdf.write(5, \"\\nTop 20 instance differences by scene between genders\")\n",
    "    i = 0\n",
    "    for value, phrase in sorted(value_to_scenephrase.items(), key=lambda kv: kv[0], reverse=False):\n",
    "        pdf.write(5, \"\\n- {0} p-value, {1}: in {2} for {3} of {4} females, and {5} of {6} males\".format(dec_to_show(value), phrase[0], phrase[1], phrase[2], phrase[3], phrase[4], phrase[5]))\n",
    "        if i == topn:\n",
    "            break\n",
    "        i += 1"
   ]
  },
  {
   "cell_type": "markdown",
   "metadata": {},
   "source": [
    "## Analyses\n",
    "<a id=\"metric4_analyses\"></a>"
   ]
  },
  {
   "cell_type": "markdown",
   "metadata": {},
   "source": [
    "Qualitative examples of the most linearly separable objects once featurized, by gender. Ratio indicates accuracy over that of accuracy with randomized labels (to check for overfitting), so the higher the better."
   ]
  },
  {
   "cell_type": "code",
   "execution_count": 24,
   "metadata": {},
   "outputs": [
    {
     "data": {
      "application/vnd.jupyter.widget-view+json": {
       "model_id": "93b076a930e34a7198722e268e83b0a2",
       "version_major": 2,
       "version_minor": 0
      },
      "text/plain": [
       "HBox(children=(Label(value='Category, acc/acc_random, acc', layout=Layout(padding='0px 0px 0px 5px', width='20…"
      ]
     },
     "metadata": {},
     "output_type": "display_data"
    },
    {
     "data": {
      "application/vnd.jupyter.widget-view+json": {
       "model_id": "336d238de12b488399d2a9fa84b4628c",
       "version_major": 2,
       "version_minor": 0
      },
      "text/plain": [
       "Output()"
      ]
     },
     "metadata": {},
     "output_type": "display_data"
    }
   ],
   "source": [
    "num_qual_widget = widgets.IntSlider(min=1, max=20, step=1, value=5)\n",
    "cat_choice_widget = widgets.Dropdown(options=cat_svm_options, layout=Layout(width='400px'))\n",
    "all_things = [widgets.Label('Category, acc/acc_random, acc',layout=Layout(padding='0px 0px 0px 5px', width='200px')), cat_choice_widget, widgets.Label('Num',layout=Layout(padding='0px 5px 0px 40px', width='80px')), num_qual_widget]\n",
    "\n",
    "if first_pass and most_different_cat is not None:\n",
    "    label_svm_qual(most_different_cat, None)\n",
    "ui = HBox(all_things)\n",
    "out = widgets.interactive_output(label_svm_qual, {'category': cat_choice_widget, 'num': num_qual_widget})\n",
    "display(ui, out)"
   ]
  },
  {
   "cell_type": "markdown",
   "metadata": {},
   "source": [
    "Differences in scene between gender for an object. Analyses on random sample of up to 500 for each gender."
   ]
  },
  {
   "cell_type": "code",
   "execution_count": 25,
   "metadata": {},
   "outputs": [
    {
     "data": {
      "application/vnd.jupyter.widget-view+json": {
       "model_id": "442e26d6b3e24e4c9f1c125c6ea57140",
       "version_major": 2,
       "version_minor": 0
      },
      "text/plain": [
       "interactive(children=(IntSlider(value=10, description='topn', max=30, min=1), Output()), _dom_classes=('widget…"
      ]
     },
     "metadata": {},
     "output_type": "display_data"
    }
   ],
   "source": [
    "interact(instance_diff_by_scene, topn=widgets.IntSlider(min=1, max=30, step=1, value=10));"
   ]
  },
  {
   "cell_type": "markdown",
   "metadata": {},
   "source": [
    "# (M11) Metric: Scenes\n",
    "<a id=\"metric11\"></a>"
   ]
  },
  {
   "cell_type": "markdown",
   "metadata": {},
   "source": [
    "## Setup\n",
    "<a id=\"metric11_setup\"></a>"
   ]
  },
  {
   "cell_type": "code",
   "execution_count": 26,
   "metadata": {},
   "outputs": [
    {
     "data": {
      "text/html": [
       "\n",
       "        <script>\n",
       "            function code_toggle_7969244713263341116() {\n",
       "                $('div.cell.code_cell.rendered.selected').next().find('div.input').toggle();\n",
       "            }\n",
       "\n",
       "            $('div.cell.code_cell.rendered.selected').find(\"div.input\").hide();\n",
       "        </script>\n",
       "\n",
       "        <a href=\"javascript:code_toggle_7969244713263341116()\">Show/hide M11 code</a>\n",
       "    "
      ],
      "text/plain": [
       "<IPython.core.display.HTML object>"
      ]
     },
     "execution_count": 26,
     "metadata": {},
     "output_type": "execute_result"
    }
   ],
   "source": [
    "hide_toggle(for_next=True, toggle_text='Show/hide M11 code')"
   ]
  },
  {
   "cell_type": "code",
   "execution_count": 27,
   "metadata": {},
   "outputs": [
    {
     "data": {
      "text/plain": [
       "<Figure size 720x360 with 0 Axes>"
      ]
     },
     "metadata": {},
     "output_type": "display_data"
    }
   ],
   "source": [
    "stats_info = pickle.load(open('results/{}/11.pkl'.format(folder_name), 'rb'))\n",
    "scenes_per = stats_info['scenes_per']\n",
    "\n",
    "info = pickle.load(open('util_files/places_scene_info.pkl', 'rb'))\n",
    "idx_to_scene = info['idx_to_scene']\n",
    "idx_to_scenegroup = info['idx_to_scenegroup']\n",
    "sceneidx_to_scenegroupidx = info['sceneidx_to_scenegroupidx']\n",
    "\n",
    "xaxis = [idx_to_scenegroup[i] for i in range(len(idx_to_scenegroup))]\n",
    "xaxis = ['\\n'.join(textwrap.wrap(chunk, width=30)) for chunk in xaxis]\n",
    "barWidth = .4\n",
    "fontsize=10\n",
    "\n",
    "fig = plt.figure(figsize=(10, 5))\n",
    "r1 = np.arange(len(scenes_per))\n",
    "scenes_f = np.array([scenes_per[i][0] for i in range(len(r1))]) / dataset.num_gender_images[0]\n",
    "scenes_m = np.array([scenes_per[i][1] for i in range(len(r1))]) / dataset.num_gender_images[1]\n",
    "\n",
    "def show_scenes():\n",
    "    fig = plt.figure(figsize=(10, 5))\n",
    "    order = np.argsort(np.divide(scenes_m, scenes_f))\n",
    "    r2 = [x + barWidth for x in r1]\n",
    "    plt.barh(r2, scenes_m[order], height=barWidth, color=COLORS[1], edgecolor='white', label='male')\n",
    "    plt.barh(r1, scenes_f[order], height=barWidth, color=COLORS[0], edgecolor='white', label='female')\n",
    "    plt.yticks([r + (barWidth/2.) for r in range(len(r1))], np.array(xaxis)[order], fontsize=fontsize)\n",
    "    plt.xticks(fontsize=fontsize)\n",
    "    plt.ylabel('Scene', fontsize=fontsize, labelpad=20)\n",
    "    plt.xlabel('Fraction of Images with this Scene', fontsize=fontsize, labelpad=20, x=.3)\n",
    "    plt.legend(loc='best', fontsize=fontsize)\n",
    "    plt.tight_layout()\n",
    "    plt.gcf().subplots_adjust(bottom=0.15)\n",
    "    plt.gcf().subplots_adjust(left=0.5)\n",
    "    if first_pass:\n",
    "        to_write[7] = [\"(M11) Distribution of scenes that each gender appears in, sorted by ratio between the two.\"]\n",
    "        plt.savefig(\"results/{0}/{1}/5.png\".format(folder_name, save_loc))\n",
    "    plt.show()"
   ]
  },
  {
   "cell_type": "markdown",
   "metadata": {},
   "source": [
    "## Analyses\n",
    "<a id=\"metric11_analyses\"></a>"
   ]
  },
  {
   "cell_type": "markdown",
   "metadata": {},
   "source": [
    "Scenes that each gender appears in."
   ]
  },
  {
   "cell_type": "code",
   "execution_count": 28,
   "metadata": {},
   "outputs": [
    {
     "data": {
      "image/png": "iVBORw0KGgoAAAANSUhEUgAAAiEAAAFkCAYAAAD2auvFAAAABHNCSVQICAgIfAhkiAAAAAlwSFlzAAALEgAACxIB0t1+/AAAADh0RVh0U29mdHdhcmUAbWF0cGxvdGxpYiB2ZXJzaW9uMy4xLjMsIGh0dHA6Ly9tYXRwbG90bGliLm9yZy+AADFEAAAgAElEQVR4nOzde5xVVf3/8debSwJC8gUveWkcJBXlqgwqiQpoaWXeS81vipqomUaGfivDRsu+mvy0xNQGlUmEMkUJJRVDrhowwgwzoKglWKTfFC8oCDgzfH5/7HVgczi3gRnOmZnP8/HgwZ61117rs/egZ5211l5LZoZzzjnn3K7WJt8BOOecc6518kaIc8455/LCGyHOOeecywtvhDjnnHMuL7wR4pxzzrm88EaIc8455/KiXb4DcC4f9txzTysuLs53GM451yosXrx4jZntlZzujRDXKhUXF/PSSy/lOwznnGsVJL2ZKt2HY5xzzjmXF94Icc4551xeeCPEOeecc3nhc0Kcc865BqqtrWX16tVs3Lgx36EUlA4dOnDAAQfQvn37nPJ7I8Q555xroNWrV9OlSxeKi4uRlO9wCoKZ8d5777F69Wp69OiR0zU+HOOcc8410MaNG+nevbs3QGIk0b179wb1DnkjxDnnnNsB3gDZXkOfiTdCnHPOuVZm9uzZnHrqqfkOwxshzjnn3M6yutqCLq9Q+cRU55xzbiepXXvq77i00cpre+0DWfOsWrWKU045hSFDhrBgwQL69+/PxRdfzM9+9jPeeecdJk2aBMCoUaPYsGEDHTt2ZMKECRx66KHblLN+/XquvvpqampqqKuro7S0lNNPP73R7iUT7wlxzjnnmqm///3vfP/736e6upoVK1YwefJk5s+fz9ixY/nlL39Jr169mDt3LpWVldx888385Cc/2a6MW265heHDh1NRUcGsWbO47rrrWL9+/S6J33tCXOtktnOX19Widrm9B++cc02lR48e9O3bF4DevXtz4oknIom+ffuyatUq1q5dy0UXXcTrr7+OJGprtx/mmTFjBtOmTWPs2LFA9ObPP//5Tw477LAmj98bIa51knaq6zSXrlLnnGtqu+2225bjNm3abPm5TZs21NXVMWbMGIYNG8YTTzzBqlWrGDp06HZlmBlTpkzZbphmV/DhGOecc66FWrt2Lfvvvz8A5eXlKfOcfPLJjBs3Dgs9xJWVlbsqPG+EFAJJIyTtl0O+myWd1MRx3N1U5Yc6th+QzP3acknnNGY8zjnXkl1//fX8+Mc/5thjj6W+vj5lnjFjxlBbW0u/fv3o06cPY8aM2WXxyXZybNztPEmzgdFm9lKe4xgBlJjZ95qgbAECPjKzzjtYRjnwlJk9trPxlJSU2MJv9d/h6304xrnW7ZVXXtlmzkRjzxNrzvPOkp8NgKTFZlaSnNd7QpJIKpa0QtL9kpZJmiTpJEkvSHpd0lEhXzdJUyVVS1ogqV9IL5U0OlbeslBmsaRXJI2XtFzSDEkdwzf7EmCSpKqQdqOkinBtWfgA36YnQNIqSTdJWiKpRlKvkH5CKKdKUqWkLlnu92JJr0maAxwbS99L0pQQR4WkYzOVL+m6kK9a0k2xZ/mKpHuAJcADQMdw7aQscd0q6eVQ3tgU538enseJkp6IpX9J0uOZynbOucbW2A2G5toAaShvhKT2BeA3QD+gF/AtYAgwGkgMJ9wEVJpZv5D2UA7lHgz81sx6Ax8CZ4dv9S8BF5jZADPbANxtZoPMrA/QEUi3rN0aMzsSuDfERvj7KjMbABwHbEgXjKR9w30cC3wJODx2+jfAnWY2CDgbuD9d+ZK+HO7tKGAAMFDS8SH/ocBDZnaEmV0MbAj3eUGGuLoBZwK9w/P9RdL5XwF7AxcDzwOHSdornL4YmJCubOecc4XD345JbaWZ1QBIWg7MNDOTVAMUhzxDiD6cMbPnJXWXtEcO5VaF48WxspINk3Q90AnoBiwHnkyRL/GNfzFwVjh+Abgj9DQ8bmarM8RzNDDbzN4FkPQIcEg4dxJweGwfgM+GXo/tyg+NkC8DidlMnYkaJf8E3jSzBRliSOUjYCNwv6TpwFOxc2OAhWY2MpEgaSLw35ImAIOBC1MVKmkkMBKgqKgo7ZBK7eZ62rdpmzHA5txV6pxzhcIbIaltih1vjv28ma3PLNUuPQbUsW0PU4c05dYT9XJsQ1IH4B6iuRn/klSaVEaqOOsTcZnZreGD+6vAAkknmdmKNNcnYk6lDTA49MzEbVc+0bP4XzP7XdK9FAMNXvHGzOrCsNeJwHnA94Dh4XQFUU9LNzN7P6RNIGqkbQQeNbO6NOWWAWUQzQm5fN7klPX/7rhvZY3RGyDOObfzfDhmx80FLgCQNJRoaOQjYBVwZEg/EuiRQ1kfA4m5G4kGxxpJnYEGvQ0iqaeZ1ZjZbUTDPIm5IqkaIguBoaEXpz3wjdi5GUQf/olyB2Qo/1ngkhAvkvaXtHeaEGtDXYlyZ0raP+keOgN7mNlfgFFEQzwJzwC3AtMT81HM7C3gLeCnQHn6p+Occ66QeE/IjisFJkiqBj4BLgrpU4ALJVURfWt/LYeyyoH7JG0gGk4YD9QQNWgqGhjXKEnDiHpHXgaelrQnKXpuzOzt0NPyN+BtosmjiXGIa4DfhvtrR9TouiJV+Wa2SdJhwN/C8M064L9DnmRlQLWkJcC3iebfvJ+Upwvw59ArJOAHSXE/Ghog0yR9NfTWTAL2MrOXc3xOzjnn8sxf0W0FJJ0KHGRmd+U7ljhJfYBLzOzaRijrbqKJwjm9O1tSUmID70xdbS7DMc651i3Va6j5cNddd3Hvvfdy5JFHbtmwrjGVlpbSuXNnRo8enT1z0JBXdL0npBUws6ey59r1zGwZ0BgNkMVEc09+uNNBOefcDshlQntTlHfPPffw9NNP06NHLiP/hccbIa7ZM7OB+Y7BOde6tW/TlnST3XdELj2yV1xxBW+88QannXYa5513Hv/4xz+oqamhrq6O0tJSTj/9dMrLy5k6dSr19fUsW7aMH/7wh3z66adMnDiR3Xbbjb/85S9069aN8ePHU1ZWxqeffsoXvvAFJk6cSKdOnbap7x//+AdXXXUV7777Lp06dWL8+PH06tVrp+7TJ6a6VsmI/iNP9ad2c+qljZ1zrpDcd9997LfffsyaNYv169czfPhwKioqmDVrFtdddx3r10cvJy5btozJkyezaNEibrjhBjp16kRlZSWDBw/moYeiJa7OOussKioqWLp0KYcddhgPPLD9yPbIkSMZN24cixcvZuzYsXz3u9/d6XvwnhDXKqV6vzqhMbtUnXNuV5gxYwbTpk1j7NhogemNGzfyz3/+E4Bhw4bRpUsXunTpwh577MHXv/51APr27Ut1dTUQNVR++tOf8uGHH7Ju3TpOPvnkbcpft24dL774It/4xtaXKDdt2sTO8kaIc84518yZGVOmTOHQQw/dJn3hwoXstttuW35u06bNlp/btGlDXV20rNKIESOYOnUq/fv3p7y8nNmzZ29TzubNm+natStVVVU0Jh+Oca2TvxXmXEZWV5vvEFwDnHzyyYwbN47EG6+VlZVZrtjWxx9/zL777kttbW3Kt2w++9nP0qNHDx599FEgavQsXbp0p+P2nhDXOknU33FpvqNwrmD5TtHNy5gxYxg1ahT9+vXDzCguLuapp3J/MfLnP/85Rx99NAceeCB9+/bl448/3i7PpEmTuPLKK/nFL35BbW0t5513Hv377/hu5ODrhLhWqqSkxBZ+a+f+43GuJfNGSGbJa2Hk6xXdQtSQdUJ8OKaFkTRKUqfsOXMu7zRJP2qs8pxzriVq7AZDc22ANJQ3QlqeUUS77+ZMUtp/7WY2zcxu3emonHPOuSTeCClAkq6XdE04vlPS8+H4REkPh+N7Jb0kabmkm0LaNcB+wCxJs0LalyX9TdISSY/GNplbJelGSfPZduO65FhGhCXRkbSPpCckLQ1/vhjS/1vSIklVkn6XqVGTiFPSy5KqJf0xpJVKelDSbElvJO4/nLtW0rLwZ1Suz8g551xh80ZIYZoLHBeOS4DOYefZIcC8kH5DGF/rB5wgqV/YG+YtYJiZDQsb1/0UOMnMjiTa9Ta+TPpGMxtiZn/MMa67gDlm1p9op+DlYeO6c4FjzWwA0aZ1F2Qp50fAEWbWj2hTvIRewMnAUcDPJLWXNBC4GDgaOAa4TNIROT4j55xrMj6ncnsNfSb+dkxhWgwMDDvFbiLa3baE6EM30UPwTUkjiX6H+wKHA9VJ5RwT0l8Iu9t+hmjH3IRHGhjXcOBCADOrB9ZK+jYwEKgIdXQE3slSTjUwSdJUYGosfbqZbQI2SXoH2IeoUfGEma0HkPQ40XO4l+zPaBvheY0EKCoq8ol3BaI5T8BryayuFrVrn+8wClaHDh1477336N69O+H/fa2emfHee+/RoUOHnK/xRkgBMrNaSauIegBeJPrQHgb0BF6R1AMYDQwysw8klQOpfusCnjOz89NUtb4RwhXwezP7cQOu+RpwPHAaMEZS75AeX36vnujfZ8r/urM9ozTXlAFlEL0d05j7PLgd57sWFyZvgGR2wAEHsHr1at599918h1JQOnTowAEHHJBzfm+EFK65RA2NS4Aa4A5gsZmZpM8SNSDWStoH+AowO1z3MdAFWAMsAH4r6Qtm9vfw1swBZvZacmWSvgdgZndniGkmcCXw6zDvY/eQ9mdJd5rZO5K6AV3M7E1JDwF3m9miWD1tgM+b2awwH+VbQOcsz6Fc0q1EDZIzgW9ne0YZynPOuZ3Wvn37ZrtzbSHxOSGFax7RMMvfzOw/wMaQhpktBSqB5cCDwAux68qApyXNMrN3gRHAHyRVEzVK0m152At4L0tM3weGSaohGjLqbWYvE807mRHqeC7EDdF8lbeTymgLPBzKqATuNLMP01VoZkuAcmARsBC438wSSwGmfUbOOecKny9W5gCQ9BRwlpl92kjlfRZ4wMzSvnmTTyUlJTbwzmuzZ3RNzodjnGv50i1W5sMxDgAzO7WRy/uIDK/+Oueccz4c45xzzrm88J4Q1yoZPgxQKPwVXedaL+8Jca2Sv9VfOLwB4lzr5Y0Q55xzzuWFN0Jc69QIb4VZXW0jBOKcc62XzwlxrZNE/R2X7lQRvuy7c87tHO8Jcc4551xetIhGiKQXG5h/aFica0fqGhWWP093/n5Jh2cpY7ak7RZt2VlNVW6WOkdI2q8Ry9vm+Ur6i6SujVW+c865wtEiGiFm9sVdWN0oIGUjRFJbM/tOWMq8tRgBpGyEhP1lGmqb52tmX820rLtzzrnmq0U0QiStC38PDb0Bj0laIWmSwh7Lkk4JafOBs2LXlkoaHft5maRiSbtLmi5paUg7V9I1RB+4syTNStQt6WZJC4HB8d4ISfdKeknSckk35XAfN0qqCPWVxWKfLek2SYskvSbpuJDeUdIfJVVLegTomKbcQZJeDPeySFIXSR0kTZBUI6lS0rCQd4SkxyU9I+l1Sb8K6W0llYfYaiT9QNI5QAkwSVJViGdVuI/5wDeSnseeYefbRHljQ1nVkq5O83xXSdozHF8b6l8maVRIK5b0iqTx4TnPkJTyOTjnnCssLXFi6hFAb+Atoo3djpX0EjAeGA78HXgkh3JOAd4ys68BSNrDzNZKuhYYZmZrQr7dgWVmdmPIFy/jBjN7P/QIzJTUz8yqM9R5t5ndHMqZCJwKPBnOtTOzoyR9FfgZcBLRjrafmFk/Sf2AJckFSvpMuN9zzawi7OmygWgzOsysr6ReRBvQHRIuG0D0HDcBr0oaB+wN7G9mfUK5Xc3sQ0W77442s5di97/RzIaEn69Ic68jgR7AEWZWJ6lbeFbJzzdxHwOBi4GjiZb5WChpDvABcDBwvpldJulPwNnAwxmes3POuQLQEhshi8xsNYCkKqAYWAesNLPXQ/rDRB+CmdQAYyXdBjxlZul2Z60HpqQ5901JI4me877A4UCmRsgwSdcTDUd0I9olN9EIeTz8vTjcE8DxwF0AZlataBfbZIcCb5tZRcj3EYCkIcC4kLZC0ptAohEy08zWhnwvAweGWA4KDZLpwIwM95FLI+8k4D4zqwsxvJ8l/xDgCTNbH+J6HDgOmEb0u60K+eLPZxvhdzESoKioKOvbLdlW8rS6WtSufZawnXPOpdMSGyGbYsf1bL3HdAtD1LHtsFQHADN7LXz7/irwv5JmJHopkmw0s/rkREk9gNHAIDP7QFJ5ouxUJHUA7gFKzOxfkkqT8ifuK35Pme5rS9Fp8mRaNHS7ZxjuoT9wMnAV8E3gkjTXr48dx59v/H7SxZVOQ+JNORxjZmVAGUS76F4+b3LGCrMt6+4NEOec2zktYk5IDlYAPST1DD+fHzu3CjgSQNKRREMEKHrj4xMzexgYm8gDfAx0yaHOzxJ9GK+VtA/wlSz5Ex/QayR1Bs7JoY65wAUh3j5AvxR5VgD7SRoU8nWR1C7p2kOAIuDVdBWFeRltzGwKMIbcn8cqYGA4jt/TDOCKEAuSumUpby5whqROknYHzgTS9U4555xrBlpiT8h2zGxj6IqfLmkNMB/oE05PAS4MQzcVwGshvS9wu6TNQC3R/AuIvkk/LeltMxuWoc6lkiqJhjHeIJqfkinGDyWNJxoGWhViyeZeYEIYhqkCFqUo91NJ5wLjwoTNDURDIfcA90mqIeqtGGFmm5LmtMTtH+pKNFx/HP4uD+VsAAanuG4s8CdJ3waej6XfTzT8Uy2plmjOzt2keb5mtiT0JiXu8X4zq5RUnC5g55xzhU3WCMtXO9fclJSU2MA7r82Yx3fZdc65xiFpsZltt45VaxmOcc4551yB8UaIc8455/KiVcwJcS6ZkX24Jdsrus4553aO94S4VinT+74J3gBxzrmm5Y0Q55xzzuWFN0Jc6+Rvhe0wq6vNdwjOuRbC54S41kmi/o5L8x1Fs5RtuXvnnMuV94Q455xzLi+8EdJIJI0IS72nOjdU0lNNUGexpIJfUUtSV0nfbWg+SftJeqxpo3POOZcv3ghpPCOAlI2QxpLYZyWmGEjZCEmRNy8ktQW6AlkbIcn5zOwtM8tlDx3nnHPNkDdC0pB0raRl4c+okFYsaVksz2hJpZLOAUqASZKqJHWUdIqkFZLmA2fFrukmaaqkakkLJPXLkl4qqUzSDOChpDBvBY4Ldf4g9MY8KulJYIakzpJmSloiqUbS6bH7eEXSeEnLJc0I+8og6RpJL4c4/hiLYaKk5yW9LumykC5Jt4dnVBP2qEn0/MySNJloL5xbgZ4hztvTxZUi35bnLamDpAkhf6WkYSF9hKTHJT0TYvtV4/wLcM4519QK4ttyoZE0ELgYOJpoSYmFkuYAH6TKb2aPSfoeMNrMXpLUgWhDtuHA34FHYtlvAirN7AxJw4kaFgMypEO0C+0QM9uQVPWPQp2nhrhHEG0i18/M3g+9IWea2UeKdsFdIGlauPZg4Hwzu0zSn4CzgYdDmT3CZnZdY3X1A44BdgcqJU0PdQ0A+gN7AhWS5ob8RwF9zGxl2GSuj5kNCHGmi+tHSfmKY/VfFZ51X0m9iBpZh4RzA4AjgE3Aq5LGmdm/kn9PzjnnCos3QlIbAjxhZusBJD0OHAdMy3jVVr2AlWb2erj+YWBkrOyzAczseUndJe2RIR1gWooGSDrPmdn74VjALyUdD2wm2gl3n3BupZlVhePFREM7ANVEPTpTgamxcv8cYtggaRZRI2MI8Aczqwf+Expqg4CPgEVmtjJNjJniSmcIMA7AzFZIepNoF16AmWa2FkDSy8CBwHaNEEU7KY8EKCoqatZveeRzNVerq0Xt2uelbudcy+KNkNTSLahZx7ZDWB0ylJFuIYpUZVuGdID1GepJFs97AbAXMNDMaiWtYmvMm2L56oGO4fhrwPHAacAYSb2TYskWc6o4kmWKK51MdSXfS8p/12ZWBpRBtIvu5fMmZ6mycOVzh19vgDjnGovPCUltLnCGpE6SdgfOBOYB/wH2Dr0UuwGnxq75GOgSjlcAPST1DD+fn1T2BRDNnQDWmNlHGdIzideZyh7AO+GDfhhRD0FaktoAnzezWcD1RBNFO4fTp4d5Gd2BoUBFiPlcSW0l7UXUeFmUQ5zp4sp0P/HncwhQBLya6X6cc84VNu8JScHMlkgqZ+sH6v1mVgkg6WZgIbCSqLGRUA7cJ2kD0VyJkcB0SWuA+UCfkK8UmCCpGvgEuChLeibVQJ2kpaH+5Dkrk4AnJb0EVCXFm0pb4OEwDCTgTjP7UBJEz2I60Yf/z83sLUlPhHtdStQzcr2Z/V+Ys7GFmb0n6YUwyfRp4LZUcaXI99tYMfcQPd8aoh6pEWHeSg6PyTnnXCGS+fLVLgtJpcA6Mxub71gaS0lJiQ2889p8h7HD8jkc45xzDSVpsZmVJKf7cIxzzjnn8sKHY1xWZlaa7xicc861PN4Ica2S0byHNPL5iq5zzjUWH45xrVJzn87qDRDnXEvgjRDnnHPO5YU3Qlzr5G+FOedcTqyutsnK9jkhrnWSqL/j0nxH4ZxzBa8pt7jwnhDnnHPO5UWraoSEbd/3S3NuqKSndnVMO0rSGZIOb+A1f5BULekHkm6WdFKW/OWSzkmRnrdnJalU0uh81O2cc65xtbbhmBHAMuCtpqpAUjszq2uq8hN1AGcATwEv53jN54AvmlnG/WMKWbhv55xzLUSz7gmRdK2kZeHPqJBWHPYeSeQZHb49nwOUEG1TXyWpo6RTJK2QNB84K3ZNN0lTQ6/BAkn9sqSXSiqTNAN4KCnGfSXNDXUuk3RcSF8n6f9JWiJpZtgADkkDQtnVkp6Q9F8hfbakX0qaA/wP0S63t4dye0q6RtLL4bo/pnhcM4g236uSdFy8l0PSQElzJC2W9KykfVM863TP6oRQZpWkSkmZNtTLdN+XSaqQtFTSFEmdQnq5pDskzSLacyZe1mWSng6/y2z375xzrsA020aIpIHAxcDRwDHAZZKOSJffzB4DXgIuMLMBROtVjQe+DhwHfC6W/Sag0sz6AT9ha8MiXTrAQOB0M0teAetbwLOhzv5EG7YB7A4sMbMjgTnAz0L6Q8D/hDpqYukAXc3sBDO7BZgGXGdmA8zsH8CPgCPCdVekeASnAf8I+eclEiW1B8YB55jZQOBB4Jb4hZI6ZHhWo4Grwv0dB2xIUXdcuvt+3MwGmVl/4BUgPmv0EOAkM/thLKbvhXjOMLMNOdy/c865AtOcu7eHAE+Y2XoASY8TfQhOy/H6XsBKM3s9XP8w0c63ibLPBjCz5yV1V7SzbLp0gGnhwzBZBfBg+LCfamaJRshm4JFw/DDweCirq5nNCem/Bx6NlfUI6VUT9fJMBabmcP8JhxLt8Ptc2JG2LfB2Up5Mz+oF4A5Jk4gaEquz1LfdfYfjPpJ+AXQFOgPPxq551MzqYz9/G1hN1ABJvDuW9f4ljUzEXVRU1KQzvp1zu4avHtz0rK4WtWvfJGU350ZIukUv69i2h6dDhjLSLRaRqmzLkA6wPmUFZnMlHQ98DZgo6XYzeyhV1gxxJqSsI/gacDxRj8cYSb1znJsiYLmZDc6SL2V8ZnarpOnAV4EFkk4ysxU51JtcbjlRo2KppBHA0Fie5PteBgwADgBWhrSs929mZUAZRLvoXj5vcgPCdM4Voua8/UJz0VQNEGjGwzHAXOAMSZ0k7Q6cCcwD/kM096G7pN2AU2PXfAwk5iysAHpI6hl+Pj+p7AsgehMEWGNmH2VIT0vSgcA7ZjYeeAA4MpxqAyTePPkWMN/M1gIfJOaNEH3jn0NqW+5FUhvg82Y2C7ierb0JuXgV2EvS4FBWe0m9k/KkfVaSeppZjZndRjTc1Sukp2uIbHff4bgL8HboMbogS8yVwOXANEn77eT9O+ecy5Nm2xNiZksklQOLQtL9ZlYJIOlmYCHRt+T4h2E5cJ+kDcBgoq756ZLWEH0Y9gn5SoEJkqqBT4CLsqRnMhS4TlItsA64MKSvB3pLWgysBc4N6ReFGDsBbxDNe0nlj8B4SdcA5wEPhOEcAXea2Yc5xIaZfRomqN4Vrm8H/BpYHsuzMQxlpHpWoyQNA+qJ3tR5WtKepO+pSnffY4h+Z28SzYXJOMHVzOYrelV3OvBl4OEduX/nnHP5I/Plq/NC0joza5Hf1iWdChxkZnelOFcQ911SUmID77w232E453aSD8c0D5IWm1lJcnqz7QlxhcvMms2ib8455/KnOc8JadYKoTcgH1rrfTvnnNue94S4VsnwblznWgJ/Rbd5854Q1yqlmzXrnGtevAHSvHkjxDnnnHN54Y0Q1zr5W2EuDaurzZ7JOdcofE6Ia50k6u+4NHs+1+r4cv7O7TreE+Kcc865vGgxjRBJIyTtl+bcUEm+dgUgqVjSskYqa1VYHXWXkzQqrCrrnHOumWoxjRBgBJCyEdJYJPnwVeEYBXgjxDnnmrGCbYRIulbSsvBnVEjb5lu8pNGSSsPeJyVEW7lXSeoo6RRJKyTNB86KXdNN0lRJ1ZIWSOqXJb1UUpmkGcBDSTEOlTRH0p8kvSbpVkkXSFokqSax4Zukr0taKKlS0l8l7RMr+0FJsyW9EfaBSfUsSiX9XtKM0PtwlqRfhTqeCZu+IelGSRXhmZVJUkgfKGmppL8BV8XKbSvp9nBNtaTL09T/3+GeqiT9TtJ278SlyyNpnaTbJC0O935U7H5PyxRHeL6zJT0WfpeTFLmGqME5S9KscH15uO8aST9I+w/LOedcwSjIRoikgUQbtx0NHANcJumIdPnN7DGiHVwvMLMBRGtRjQe+DhwHfC6W/Sag0sz6AT9ha8MiXTrAQOB0M0u1ulV/4PtAX6Jdbw8xs6OA+4GrQ575wDFmdgTRxnPXx67vBZwMHAX8LNGgSKEn0Xb1pwMPA7PMrC+wIaQD3G1mg8ysD9CRrTsITwCuMbPBSWVeCqw1s0HAIKLn3COeQdJhRJvMHRuebT1Ju9xmybM7MNvMBhLt/PsL4EtEux7fnEMcRxD1ehwOHBTquAt4CxhmZsOAAcD+ZtYnPJMJaZ6hc865AlKowwtDgCfMbD2ApMeJGhPTcry+F7DSzF4P1z9MtGNuouyzAczseUndFZm1swoAACAASURBVO2+mi4dYJqZbUhTV4WZvR3q+QcwI6TXAMPC8QHAI5L2BT5DtLtvwnQz2wRskvQOsA+wOkU9T5tZraQaoC3wTKye4nA8TNL1RMMU3YDlkuYCXc1sTsgzEfhKOP4y0C/0JAHsARycFN+JRI2witCx0hF4Jym2THk+TYp1U+w+EnGni+NTYJGZrQaQVBWumZ9U/xvAQZLGEe2qO4MUFO0EPBKgqKjI34IoEIW24qXV1aJ26b4LOOcaU6E2QtItaFnHtr03HTKUkW4hiFRlW4Z0iLafT2dT7Hhz7OfNbH2+44A7zGyapKFAaZrr64F2kq4CLgtpX43nM7PNkmpt6/bHm8M1HYB7gBIz+5ekUqLnIzI/i6vN7NkM9yfg92b24x3Mkxxr/D7axa7fLo7wrLZ7PskVmNkHkvoT9ShdBXwTuCRFvjKgDKJddC+fNznDLbldpdCWz/cGiHO7TkEOxwBzgTMkdZK0O1HX/TzgP8DeoZdiN7YON0DU1d8lHK8AeiTmZADnJ5V9AWz5kFtjZh9lSG8MewD/DscXZctsZr81swHhz1s51pFokK2R1Bk4J5T1IbBW0pBwPj6U8ixwZWxOySHhecfNBM6RtHfI003SgTuQJ5Nc4ki25fet6A2dNmY2BRgDHNmAup1zzuVJQfaEmNkSSeXAopB0v5lVAki6GVhINGSwInZZOXCfpA3AYKJu9+mS1hB13/cJ+UqBCZKqgU/Y2ihIl94YSoFHJf0bWAD0yJy94czsQ0njiYY8VgEVsdMXAw9K+oToAz/hfqLhjSVhEuu7wBlJ5b4s6afADEltgFqi3oY3G5Ini6xxpFAGPC3pbaI5IxNC3QCZem2cc84VCJkvX+1aoZKSEht457X5DsNReMMxzrnGJ2mxmZUkpxfqcIxzzjnnWjhvhDjnnHMuLwpyTohzTc3wYYBCUWiv6Drndh3vCXGtUrp3wN2u5w0Q51ovb4Q455xzLi+8EeJapwJ8K8zqavMdgnPO7VI+J8S1ThL1d1ya7yi24cvIO+daG+8Jcc4551xetPpGiKRiScvC8QBJX812TQPLny1puwVadrCs8tgmb/H0/SQ9luG6rpK+u4N1vriD15VKGt2A/EMlPbUjdTnnnGueWn0jJMkAtm4YlxNFmuQ5SsrptQEze8vMtmucxHQFGtQISdRtZl9syHXOOedcrlpkI0TShZKqJS2VNDGkbdOLIGld0jWfAW4GzpVUJenc5G/zkpaFnpNiSa9IugdYAnxe0r2SXpK0XNJNOcR4oqRKSTWSHgwb8iFplaQbJc0HvpHi0uMlvSjpjcT9JPXm9Ja0KNxDtaSDgVuBniHt9tBwuj3cT42kc8O1QyXNkjSZaA+abZ6TpOtD/qWSbg1pl0mqCGlTJHXKct/lku6TNE/Sa5JOTZHnqHCPleHvQ0N6W0ljQwzVkq4O6QMlzZG0WNKzkvbN9vydc87lX4ubmCqpN3ADcKyZrZHULZfrzOxTSTcCJWb2vVBWaYZLDgUuNrPvhrw3mNn7oQdhpqR+ZladJsYORBvunWhmr0l6CLgS+HXIstHMhqS6FtgXGAL0AqYBycMwVwC/MbNJoWHVFvgR0MfMBoT6zybq9ekP7AlUSJobrj8q5F2ZFPNXiDaVO9rMPok918fNbHzI8wvgUmBcmtgTioETgJ7ALElfSDq/AjjezOoknQT8EjibaFPCHsAR4Vw3RTvvjgNON7N3Q4PqFuCSLDE455zLsxbXCAGGA4+Z2RoAM3u/iep508wWxH7+pqSRRM90X+BwIGUjhKgBs9LMXgs//55o19lEI+SRDPVONbPNwMuS9klx/m/ADZIOIGogvC5ttzTXEOAPZlYP/EfSHGAQ8BGwKLkBEpwETDCzT2Cb59onND66Ap3ZdpfedP4U7uF1SW8QNaji9gB+H3pxDGgfi+E+M6tLxCCpD9EOyc+F+2wLvJ2q0vD7GQlQVFSU17dRUq0SanW1qF37NFc451zL0xIbISL64EpWRxh+UvRp9ZkcytpyTdAhdrx+S4VSD2A0MMjMPpBUnpQ3VYyZrM9wblOmcsxssqSFwNeAZyV9B3ijAfWnqzvdcy0HzjCzpZJGAEMzlL0lzCw//xyYZWZnSioGZmeIQcByMxuctVKzMqAMol10L583OYdQm0aqJeO9AeKca21a4pyQmUS9Et0BYsMGq4CB4fh0tn67jvsY6BL7eRVwZCjnSKKhgFQ+S/ThvTb0TnwlS4wrgOLYMMS3gTlZrsmJpIOAN8zsLqLhmn5sf19ziea+tJW0F3A8sChL0TOASxJzPmLPtQvwdhgWuSDHML8hqY2knsBBwKtJ5/cA/h2ORyTFcIWkdrEYXgX2kjQ4pLUPQ3LOOecKXItrhJjZcqI5AXMkLQXuCKfGAydIWgQcTepv/LOAw8MEznOBKUA3SVVEczZeS3ENZrYUqASWAw8CL2SJcSNwMfCopBpgM3Bfg240vXOBZSHmXsBDZvYe8EKYiHo78ATRUNFS4HngejP7vywxP0PUqHkplJ2YsDsGWAg8R9S4ysWrRI2up4ErwvOI+xXwv5JeIBpeSbgf+CdQHX633zKzT4FzgNtCWhXgb/Q451wzICvA5atdyxWGqp4ys7TrmuwKJSUlNvDOa/NWv+/g65xrTSQtNrPt1sxqcT0hzjnnnGseWuLEVFfAzGxEvmNwzjlXGLwR4lolI79DIqle0XXOudbGh2Ncq5TtHemm5g0Q55zzRohzzjnn8sQbIa51KoC3wqyuNt8hOOdcXvmcENc6SdTfcWleQ8jnsvHOOVcIvCfEOeecc3mRUyNE0j6SHpD0dPj5cEn5/RqZR5JebGD+oZKeaoI4iiUV/KpXkrpK+m5D80naT1JeFzVzzjnXdHLtCSkn2h11v/Dza8CopgioOTCzvCwLntgzJaYYSNkISZE3LyS1JdphN2sjJDmfmb1lZuc0VWzOOefyK9dGyJ5m9ieiPU4IW6nXN1lUBU7SuvD3UEmzJT0maYWkSWGHXiSdEtLmA2fFru0maaqkakkLJPXLkl4qqUzSDOChpFBuBY4Le938QNIISY9KehKYIamzpJmSlkiqkXR6KLNY0iuSxktaLmmGpI7h3DWSXg5x/DEWw0RJz0t6XdJlIV2Sbg970tSE/XYSz2WWpMlATYizZ4jz9nRxpchXLGlZKLODpAkhf6WkYSF9hKTHJT0TYvtVY/6unXPONZ1cvy2vV7QrrQFIOgZY22RRNS9HAL2Bt4g2rjtW0ktEG+YNB/4OPBLLfxNQaWZnSBpO1LAYkCEdot1/h5jZhqS6fwSMNrNTIfpABgYD/czs/dAbcqaZfSRpT2CBpGnh2oOB883sMkl/As4GHg5l9jCzTZK6xurqBxwD7A5USpoe6hoA9Af2BCokzQ35jwL6mNlKScXheECIM11cP0rKVxyr/yoAM+srqRdRI+uQcG5A+D1sAl6VNM7M/oVzzrmClmsj5FqiHVR7hp1N9yLaudTBIjNbDRB2ly0G1gErzez1kP4wMDLkH0L0gY+ZPS+pu6Q9MqQDTEvRAEnnOTN7PxwL+KWk44l6sfYH9gnnVppZVTheHOKGaHfdSZKmAlNj5f45xLBB0iyiRsYQ4A9mVg/8R9IcYBDwUXguK9PEmCmudIYA4wDMbIWkN4FEI2Smma0FkPQycCCwXSNE0kjC76GoqCgvb6fEV0q1ulrUrv0uj8E55wpFTo0QM1si6QTgUKIPkFfNzBc5iGyKHdez9ZmmW4gi1WKdliEdYH0D4onnvYCowTjQzGolrQI6hHPJcXcMx18DjgdOA8ZI6p0US7aYU8WRLFNc6WSqK93vYBtmVgaUQbSL7uXzJmepsvHFl4r3BohzrrVryCu6RxF1ux8JnC/pwqYJqUVYAfSQ1DP8fH7s3FyiD2EkDQXWmNlHGdIz+RjokuH8HsA74YN+GFEPQVqS2gCfN7NZwPVEE0U7h9Onh3kZ3YGhQEWI+VxJbSXtRdR4WZRDnOniynQ/8edzCFAEvJrpfpxzzhW2nHpCJE0EegJVbJ2Qamw/UdIBZrYxdP1Pl7QGmA/0CadLgQmSqoFPgIuypGdSDdRJWkr0BtMHSecnAU+GOSpVRI2jTNoCD4dhIAF3mtmHiubaLgKmE334/9zM3pL0BNG8kKVE/x6uN7P/C3M24s/jPUkvhEmmTwO3pYorRb7fxoq5B7hPUg1QB4wI81ZyeEzOOecKkSyH5aslvQIcbrlkdi2OpFJgnZmNzXcsjaWkpMQG3nntLq83nzv3OudcvkhabGYlyem5DscsAz7XuCE555xzrjXL9e2YPYGXJS0iNgnQzE5rkqhcQTGz0nzH4JxzruXJtRFS2pRBOLerGfkZGom/ouucc61drq/ozpF0IHCwmf1VUieiSYzONUv5ms7qDRDnnNsq1w3sLgMeA34XkvZn24WsnHPOOecaJNeJqVcBxxKthElYCXTvpgrKuSbnL3rlxOp8TULnXNPJdU7IJjP7NLEmQ9j7w/8v7povifo7Ls13FAUvH0vbO+daj1x7QuZI+gnQUdKXgEeBJ5suLOecc861dLk2Qn4EvEu0LfvlwF+AnzZVUC2NpGskvSJpUhPW8ZMc8x0nabmkKkn7S3osS/7isIJpqnOzJW23+ExSnpslnZRLbA0hqVySb6LonHPNWK7DMR2BB81sPICktiHtk6YKrIX5LvCVDLvKbkNSOzOra2AdPwF+mUO+C4CxZjYh/NykH+RmdmNTlu+cc675yrUnZCZbd1klHP+18cNpeSTdBxwETJP0A0ndJE2VVC1pgaR+IV+ppDJJM4CHwqZwt0uqCHkvD/n2lTQ39GQsCz0btxINlVVl6m2R9B3gm8CNkibFeznS1Zd0fUdJfwznH2HbfxPp6tzSYyFplaQ9w3GJpNmxe38w9Ky8Iema2PVjJK2Q9JykP0ganaKOgZLmSFos6VlJ+2aLyznnXP7l2hPSwczWJX4ws3VhrRCXhZldIekUYJiZrZE0Dqg0szMkDSfaBHBAyD4QGGJmG8IGeGvNbJCk3YAXQgPlLOBZM7sl9Eh1MrN5kr5nZgNShBCP5X5JQ4CnzOwxScWx05emqS8+AflK4BMz6xcaT0t28vHE9QKGEe2i+6qke4l2bT4bOILo3+oSYHH8IkntgXHA6Wb2rqRzgVuASxoxNuecc00g10bIeklHmtkSiL7FAhuaLqwWbQjRBytm9ryk7mHXWoBpZpZ4rl8G+sXmPewBHAxUAA+GD9+pZlbVSHGlq++1WJ7jgbtC7NVhx9/GMt3MNgGbJL0D7EP0rP6ceCaSUk2GPpRoh+LnwttbbYG3U1UQGnYjAYqKivzNjxzU1tfRvm2u/5twzrmGyfX/LqOARyW9RfTNeD/g3CaLqmVLtVhnordhfVK+q83s2e0KkI4HvgZMlHS7mT3USHFtV19Sb0k81h1Rx9YhwA5J5zbFjuuJ/m3msrCpgOVmNjhbRjMrA8og2kX38nmTcyi+dfNdf51zTSnjnBBJgyR9zswqiLrLHyH6IHkGyGmSpdvOXKLJoUgaCqwxs49S5HsWuDL0eCDpEEm7h+Xz3wmThB8Ajgz5axN5Q/6ZkvZvQFwp68sQex+gX6y+hyQdlaWOVURDThB6g7KYD3xdUgdJnYkaXsleBfaSNDjE0V5S7xzKds45l2fZJqb+Dvg0HA8megPjt8AHhG+UrsFKgZIwlHErcFGafPcDLwNLwuTR3xH1DgwFqiRVEn2Q/ybkLwOqw4TTNsAXgPcbEFe6+uLuBTqH2K8HFsXO9SPNMAhbe09uAn4jaR5Rb0dGofE7DVgKPA68BKxNyvMp0Rs+t0laClQBX8xWtnPOufyTZVi+WtJSM+sfjn8LvJvY1l1SVbaJkC4/Qi/FJWZ27S6q77PAA2b2jRTnngTuMLNZO1h259hE6LnAyMTcpJ1RUlJiA+/cJY+nWfPhGOdcY5C02My2W1cqW09IW0VLtAOcCDwfO+ez1QqUmS3bVQ2QUN9HaRogDwKdiIZVdlSZpCqiN2OmNEYDxDnnXGHI1pD4A9GS7WuI3oaZByDpCyR1izuXzMx2+jVZM2uSr+KGf8vPRe3metq3aZvvMJxzLVTGRkhYi2ImsC8ww7aO3bQBrm7q4JxrKrm8duPwBohzrkllHVIxswUp0l5Lldc555xzLle5LtvunHPOOdeovBHiWqcMb4U1F1ZXm+8QnHNup/gbLq51kqi/49J8R7FTfNl551xz5z0hzjnnnMsLb4TspLANfart5feT9Fg+YsqVpKGSntpFde0m6a+SqsJOt84551o5H45pImb2FtFy4gVDUlszy7pcehM5AmjfkFV2JbUzs7omjMk551weeU9ICpIulFQtaamkiSHt65IWSqoM3+j3iV3SX9Lzkl6XdFnIXxz2YEHSCEmPS3om5PlVSG8rqVzSMkk1kn6QJa69JD0naYmk30l6U9Ke4dxUSYslLQ9b1ieuWSfpZkkLgcGSTpG0QtJ84KxYvt0lPSipItzj6Y0Vu6S9gYeBAaEnpKekG0NdyySVSVLIO1vSLyXNAb4f6rhX0ixJb0g6IcT5iqTyHXmOzjnnCoP3hCQJO7DeABxrZmskdQun5gPHmJlJ+g7RBm4/DOf6AccAuwOVkqanKHoAUW/AJuBVSeOAvYH9zaxPqLtrlvB+BjxvZv8r6RRgZOzcJWb2vqSOQIWkKWb2XohpmZndKKkD8DowHPg70a7ICTeEsi8JcSyS9NfGiN3M3gnPbLSZnRry321mN4fjicCpwJPhkq5mdkI4Vw78V4j5tJDnWOA74T4HAG0b+Bydc84VAG+EbG848JiZrQEws8ROtAcAj0jaF/gMsDJ2zZ/NbAOwQdIs4Cii3VzjZprZWgBJLwMHAsuBg8KH+nRgRpbYhgBnhriekfRB7Nw1ks4Mx58HDgbeI9qtdkpI7wWsNLPXQxwPs7Uh82XgtNj8lg5AUSPGnmyYpOuJ9pbpFspLNEIeScr7ZGj81QD/MbOaEMtyoBiYk0ssoYdoJEBRUVGLeLvEl1V3zjVn3gjZnti69XzcOKLdYKdJGgqUxs4l5091/abYcT3Qzsw+kNQfOBm4CvgmkGm/lZSrjYd4TgIGm9knkmYTNSIANibNA0m3QIaAs83s1aSyj26k2ONldgDuAUrM7F+SSmPxAqxPuiRR/+akWDY3JBYzKwPKINpF9/J5k3MJt6D5/jfOuebM54RsbybwTUndAWLDMXsA/w7HFyVdc7qkDuGaoUBFLhWF+RxtzGwKMAY4MqR/T9L3Ulwyn+gDFklfJhqmSMT2QWiA9CIaGkplBdBDUs/w8/mxc88CV8fmZhzRyLHHJRocayR1Zicn8KaLxTnnXGHznpAkZrZc0i1EuwfXA5XACKKej0cl/RtYAPSIXbaIaBigCPi5mb0lqTiH6vYHJkhKNAZ/HP7uBbyQIv9NwB8UveI6B3gb+Bh4BrhCUjXwaogv1b1tDEMS0xXtjDwf6BNO/xz4NVAdGiKriOZpNFbs8Tg+lDQeqAn15NRo24FYnHPOFTBZC1i+uqVRtHbHWWb2aVL6bkC9mdVJGgzc25BXXneFdLEXmpKSEht457X5DmOn+XCMc645kLTYzEqS070npAAl3iBJoQj4U/jG/ylw2a6LKjcZYnfOOee24Y2QZiS81ZJxrobLjdEyehH87RjnXHPmE1Ndq5TyNaNmyBsgzrnmzBshzjnnnMsLb4Q455xzLi+8EeJaJ38rrNFZXW2+Q3DONTM+MdW1ThL1d1ya7yhalJawDL5zbtfynhDnnHPO5YU3QpqQpCskXZglT2ls07h4ermkBi1nLukviR1kJa1Lk2dLuZLul3R4Q+rYUZJGSNpvV9TlnHOuefDhmJ0kqW3SBnFbmNl9uzIWM/tqA/N/p6liSWEEsAx4axfW6ZxzroA1i54QSRdKqpa0VNLEkHagpJkhfaakopBeLuleSbMkvSHpBEkPSnpFUnmszHWSbpO0WNJfJR0laXa45rSQp62k2yVVhHouD+lDQ/mTifY/SRfjll4OSZeFcpZKmiKpUw63fpKkeZJek3RqKGeEpLtj9/FU2EUXSavCZm7xZydJd0t6WdJ0YO/YudmSSmLP45YQ3wJJ+4T0nuHnCkk3J3pYJO0raa6kKknLJB2X4fd3DlACTAr5O0o6UVKlpJrw+9kt/A4eD9ecLmmDpM8o2hzwjVjMt0laFJ7LcSG9d0irCr+Hg3N4vs455/Ko4BshknoDNwDDzaw/8P1w6m7gITPrB0wC7opd9l/AcOAHwJPAnUBvoK+kxF4ruwOzzWwg0SZwvwC+BJwJ3BzyXAqsNbNBwCDgMkmJjeuOAm4ws8MzxBj3uJkNCudfCWVnUwycAHwNuE9Sh8zZUzoTOBToS7TM+xfT5NsdWBDim8vWJeF/A/wmPIN4L8a3gGfD3jX9gap0AZjZY8BLwAUhvwHlwLlm1peoR+5KYAlbV4Q9jqjnZBBwNLAwVmQ7MzsKGAX8LKRdEeIcQNTgWZ0uHuecc4WhOQzHDAceM7M1AGb2fkgfDJwVjicCv4pd86SZmaQa4D9mluitWE70wV5FtPfKMyF/DbDJzGrDNcUh/ctAv9jcjD2Ag8O1i8xsZZYY4/pI+gXQFegMPJvDvf/JzDYDr4eegF45XJPseOAPYcjoLUnPp8n3KfBUOF5M1CCD6DmfEY4nA2PDcQXwoKT2wFQzS9sISeFQYKWZvRZ+/j1wlZn9WtLfJR1G1Mi7I8TfFpgXu/7xWJzF4fhvwA2SDiBq8L2eXKmiHYRHAhQVFfnbHLuILy3vnEunOTRCRPTNOZt4nk3h782x48TPiXuuta1bCG/JZ2abJSXyCLjazLZpMIThj/UNjLEcOMPMlkoaAQzNkp8UZRpQx7Y9WLn0juTy/OLPo54s/zbMbK6k44l6aSZKut3MHsqhHsi8avo84CtALfBXoufWFohP3k38TrfEaWaTJS0M8Twr6Ttmtk2Dy8zKgDKIdtG9fN7kHMN1O6Ml7NHjnGsaBT8cA8wEvimpO4CkbiH9ReC8cHwBML8J6n4WuDJ820fSIZJ2b0CMcV2At0NZF+RY/zcktZHUEzgIeBVYBQwI6Z8n6jHIZC5wXpjfsi8wLMe6ExYAZ4fjxPNG0oHAO2Y2HngAODKkPyQpVUwfEz0DgBVAsaQvhJ+/DcyJxTsK+JuZvQt0J+oBWp4pSEkHAW+Y2V3ANKBfQ27SOefcrlfwPSFmtlzSLcAcSfVAJdGbFtcQDQdcB7wLXNwE1d9P1N2/RJJCPWckZ8oQY9wYonkNbxIN/3Qhu1eJPpz3Aa4ws42SXgBWhjKWEc2jyOQJouGiGuA1tn7Y52oU8LCkHwLTgbUhfSjw/9u78zC7qjrd498XggQIhiFIo1IkpkEuaAymggohhKFpRC+gBIFGZbqEwSYixunaFwO0XjBIvN02YlAISBgEITK0gAYyMITMqSQQhk5Cy4UGQQgEkpjh13/sVWTncE7VqdSwq855P89zntpn7bXWXnvVSep31l57r29JWgesAppvRR4EvFSmnolk81pWk13iOQO4PY06zQaa7yR6gux8p6f3TWTBTmujOScBX07t+S82zesxM7NuSq3/3271LN3FszrNsTkZOCUijquQ9/3AryLixC5t5BZobGyMIeMvKroZdcGXY8xM0tyIaCxN7/YjIVa4IcDP0kjQG8CZlTJGxJtAtw9AzMyse3AQYi2KiBlkt+DWlMDf0LuK744xs0p6wsRUsw7X0u051rEcgJhZJQ5CzMzMrBAOQszMzKwQDkKsPnXzu8Ji/bqim2Bm1uk8MdXqk8SGq6pZvqcYfqS8mdUDj4SYmZlZIeoqCJH0WBvzj5B0b+s5uwdJx0varwuPV7Z/quk3SY2S/qWlPGZmVtvqKgiJiErL2Heq3IJ4nX2M44EuC0LaIyLmRMTo9tYjyfd/mpn1UHUVhEhalX6OkDRV0h2SlkqalJ4IiqSjU9ojwBdzZXeRNFlSk6SZkga1kj5W0gRJDwI3lrRjD0nTJS2QtFjSIc3tk/QTSfMkTZG0W0ofnOpuknSXpJ1T+lRJP5I0DfgOcCwwLtU7UNJoSU+mcreW6Y/+kmak482TdNCW9k8Lfb6DpOskzZY0X9JxuWPcm7YPTW1ekPLsWDqaIulnylYfRtIKSRenNpyYzvV+SXPT+ezbWrvMzKx49Twx9QBgf+BF4FHgYElzgGvJFnx7Drgtl/8SYH5EHC/pcLLAYnAL6ZA98nxYRKwuOfY/AA9ExA/TN/ntU/oOwLyI+Kaki4EfAP+Y6rwgIqZJujSlX5jK7BQRhwJI2hu4NyLuSO+/CwyIiLWSdirTB68Af5cWxtsbuAVofrZ/W/unku8DD0XEmakNsyT9sSTPGOBrEfGopD7AmirqXRMRw9J5TiFb4O9ZSZ8Crk5tNDOzbqyeg5BZEfECgKQFZKvlrgKWR8SzKf0mYFTKP4y0pH1EPCRpV0l9W0gHuLtMAALZqrHXSdoGmBwRC1L6Rjb9Yb8JuDPVtVNENK9+ewNwe66ulgKBJmCSpMnA5DL7tyFbF2YwsAHYJ7evrf1TyVHAsZLGpPe9gYaSPI8CV0maBNwZES+kgZeW3Jba0Ac4iGxF3uZ925YrIGlUc3sbGhpq9g4UPybdzHqKeg5C1ua2N7CpLyo9QKLcX8VoIR3g7XIVRcR0ScOBzwG/ljQuIm4sl7VCW/LKHiP5HDCc7DLN/5G0f0Ssz+3/BvAy2dowW7H5CERb+6cSASdExNObJUq7N29HxOWS7gOOAWZKOhJYz+aXC3uX1Nt83lsBb0TEYFoREROACZCtonvOjJvbeCo9g9fEMbOeoq7mhFRhKTBA0sD0/pTcvunAqZDNZwBeTavGVkqvSNJewCsRcS3wK+CTaddWwMi0/Q/AIxGxEni9ed4I8BVgGuW9BeyYjrEVcLMwiQAAGUxJREFUsGdEPAx8G9gJ6FOSvy/wUkRsTPW29vW5pf6p5AHggtyckgNKM0gaGBGLIuIKYA6wL/A8sJ+kbdNo0BHlKk99vVzSiakuSaq5BffMzGpRPY+EvEeaGzEKuE/Sq8AjwMfS7rHA9ZKagHeA01pJb8kI4FuS1pFd4vhqSn8b2F/SXGAlcFJKPw24RtL2wDLgjAr13gpcK2k0cDLwq/QHXMD4iHijJP/VwG/TH/CHaXlUpbX+qeQy4KdAUwpEVgCfL8lzoaTDyEZcngR+n+ax/IbsktKzwPwWjnEq8HNJ/0R2ielWYGEr7TIzs4Ipuvnjq+uJpFURUTpaYZ2gsbExhoy/qOhmdApfjjGz7kbS3IhoLE335RgzMzMrhC/HdCMeBek6Qe2OGPjuGDPrKTwSYnWp1RuAezAHIGbWUzgIMTMzs0I4CDEzM7NCOAix+lSHd4XF+nVFN8HMbDOemGr1SWLDVWcV3YouVauPqTeznssjIWZmZlYIByHWKSStkNSvDfmnSnrPg2zMzKx2OQixDifJ94iamVmrHITYZiR9O609g6Txkh5K20dIuknSKZIWSVos6YpcuVWSLpX0BPCZXPp2ku6XdLak/pKWSrpBUpOkO9J6OKVt+LmkOZKWSLoklz5U0mOSFkqaJWlHSVtLGidpdqrznE7tIDMz6zAOQqzUdKB5xd5GoI+kbYBhZAvJXQEcDgwGhko6PuXdAVgcEZ+KiEdSWh/gHuDmtGIwwEeBCRExCHgTOL9MG76f1hgYBBwqaZCk9wG3AV+PiE8ARwKrgbOAlRExFBgKnC1pQIf0hJmZdSrfHWOl5gJDJO0IrAXmkQUjh5AFFFMj4s8AkiYBw4HJZCvg/rakrt8BP46ISbm0P0XEo2n7JmA0cGVJuS+l1Xp7AXsA+5E9af2liJgNEBFvpjYcBQySNDKV7QvsDSwvPbFU5yiAhoYG3y3SCfzIeDNrCwchtpmIWCdpBXAG8BjQBBwGDAT+ExhSoeiaiNhQkvYo8FlJN8em5ZpLH9Cx2fs0ijEGGBoRr0uaCPQme9J6uYd7CLggIh6o4twmABMgW0X3nBk3t1bE2qhW1+Mxs87hyzFWznSyQGA6MAM4F1gAzCS7PNIvTT49BZjWQj0XA68BV+fSGiQ1zxk5BXikpMz7gbeBlZJ2Bz6b0pcCH5Q0FCDNB+kFPACcly4ZIWkfSTtswTmbmVkXcxBi5cwguwzyeES8DKwBZkTES8D3gIeBhcC8iPhdK3VdCPSW9OP0/ingNElNwC7Az/OZI2IhMB9YAlxHNppCRPwVOAn4V0kLgT+QjZD8EngSmCdpMfALPMJnZtYjKOrw8dVWDEn9gXsj4mMFN4XGxsYYMv6ioptRc3w5xszKkTQ33XCwGY+EmJmZWSE8bG1dJiJWAIWPgkA2w9Xf2jue744xs7bwSIjVJRXdgBrlAMTM2sJBiJmZmRXCQYiZmZkVwkGI1ac6vCss1q8ruglmZpvxxFSrTxIbrjqr6FZ0KT+m3sy6G4+EmJmZWSEchPRgkh5rY/4Rku7trPZsSTvS9kEdXP8KSf06sk4zM+t4DkJ6sIjo0D/e1UprtnSUEUCbziOtW2NmZj2cg5AeTNKq9HOEpKmS7pC0VNIkSUr7jk5pjwBfzJXdRdJkSU2SZkoa1Er6WEkTJD0I3FimLd+WtEjSQkmXp7SpkhrTdr+0Om++TH+yxfG+IWmBpEMkTZQ0ssI5PizpZmBRSpssaa6kJZJGdUyvmplZV/HE1NpxALA/8CLZom8HS5oDXAscDjwH3JbLfwkwPyKOl3Q4WWAxuIV0gCHAsIhYnT+wpM8CxwOfioh3JO1STYMjYoWka4BVEXFlqqul2aIHAh+LiOXp/ZkR8RdJ2wGzJf02Il6r5thmZlY8ByG1Y1ZEvAAgaQHQH1gFLI+IZ1P6TUDziMEw4ASAiHhI0q6S+raQDnB3aQCSHAlcHxHvpHJ/6YwTJDvH5bn3oyV9IW3vCewNVAxC0mjJKICGhgbfLdJF/Ch3M6vEQUjtWJvb3sCm322lB2KUe3J5tJAO8HYLdZU7zno2XfLrXaFsxTLpktL7cvvePb6kEWTBz2fS6MvU1o4REROACZCtonvOjJurbJK1h9foMbNKPCekti0FBkgamN6fkts3HTgV3v2D/mpEvNlCekseBM6UtH0q13w5ZgXZJRyAkWXKAbwF7Jh7ny9zHLBNhXJ9gddTALIv8OlW2mhmZt2Mg5AaFhFryC4/3Jcmpj6f2z0WaJTUBFwOnNZKekvHuR+4G5iTLgWNSbuuBM5LtxJXumX2HuALzRNTyeawHCppFvApKo++3A/0Su28DJjZWjvNzKx7UdTh46vNGhsbY8j4i4puRl3w5RgzkzQ3IhpL0z0SYmZmZoXwxFSrS4G/oXcV3x1jZpV4JMTqUrlbgKxzOAAxs0ochJiZmVkhHISYmZlZIRyEWH2qo7vCYv26optgZlaWJ6ZafZLYcFVLy9TUDj+e3sy6K4+EmJmZWSEchNQASf0lLS66HW0haaKkSo9yL5e/v6RW76ntiX1hZlavHIRYl5DU3vs0+wN+sIeZWQ1xEFI7tpZ0raQlkh6UtB2ApMGSZkpqknSXpJ1T+lRJ4yVNl/SUpKGS7pT0rKR/bq5U0pclzUpru/yiXDAh6QhJ8yUtknSdpG1T+gpJF6d1a04s0+bhkh6TtKx5VESZcZIWp/pOSnkvBw5J7fiGpK1Tvtnp3M7p2O40M7PO5iCkduwN/FtE7A+8AZyQ0m8EvhMRg4BFwA9yZf4aEcOBa4DfAV8DPgacLmlXSf8DOAk4OCIGAxtIK+w2k9QbmAicFBEfJ5vsfF4uy5qIGBYRt5Zp8x7AMODzZEEGwBeBwcAngCOBcZL2AL4LzIiIwRExHjgLWBkRQ4GhwNmSBlTfXWZmVjTfHVM7lkfEgrQ9F+gvqS+wU0RMS+k3ALfnytydfi4ClkTESwCSlgF7kgUIQ4DZkgC2A14pOe5H07GfyR3ja8BP0/vbWmjz5IjYCDwpafeUNgy4JSI2AC9LmkYWZLxZUvYoYFBuXklfskDsGSqQNIpsVWEaGhp810g34ce6m9UvByG1Y21uewNZwFBtmY0l5TeSfTYE3BAR32uhjtaegP52FcfP11PtE9UFXBARD2yWKPWvVCAiJgATIFtF95wZN1d5KOtMXsPHrH75ckwNi4iVwOuSDklJXwGmtVCk1BRgpKQPAEjaRdJeJXmWko26/O0WHqPUdOCkNOdjN2A4MAt4C9gxl+8B4DxJ26S27SNph3Yc18zMuphHQmrfacA1krYHlgFnVFswIp6U9E/Ag5K2AtaRXWp5PpdnjaQzgNsl9QJmk80x2VJ3AZ8BFpItdvvtiPgvSa8B6yUtJJuD8v/I7piZp+xa0Z+B49txXDMz62KKOnp8tVmzxsbGGDL+oqKbYfhyjFk9kDQ3IhpL0305xszMzArhyzFWlwJ/A+8ufHeMWf3ySIjVpWpvwbHO5wDErH45CDEzM7NCOAgxMzOzQjgIsfrku8LeFevXFd0EM6tTnphq9Uliw1VnFd2KbsGPrzezongkxMzMzArhIKSTpGXs+3XyMf5d0k6deYwq29Ff0uIq8k1sXnBO0i8l7ddK/nMlfbWj2mlmZt2LL8f0YBFxTNFt2FIR8b+qyNOex7+bmVk355GQdpK0g6T7JC2UtFjSSbndF0iaJ2mRpH1T/l0kTZbUJGmmpEEpfaykX0t6SNKzks5O6SMkTZd0l6QnJV2T1nF5d7QljUQ8JelaSUskPShpu5RnaDrW45LGlRuxkNRH0pRcW49L6S3VOySd8+Nk68mU6xtJ+llq933AB3L7pkpqTNurJP0w1TdT0u65PhmTy3+FpFmSnmlelE/S9pJ+k87xNklPNNdrZmbdm4OQ9jsaeDEiPhERHwPuz+17NSI+CfwcGJPSLgHmR8Qg4H8DN+byDwI+R7aA28WSPpjSDwS+CXwcGAh8sUw79gb+LSL2B94ATkjp1wPnRsRngA0VzmEN8IXU1sOAn6RF4Vqrd3Sqt5IvAB9N7T4bOKhCvh2AmRHxCbJVdM+ukK9XRBwIXAj8IKWdD7ye+vMyYEgL7TEzs27El2PabxFwpaQrgHsjYkZu353p51w2BQ7DSH/II+IhSbtK6pv2/S4iVgOrJT1MFny8AcyKiGUAkm5JddxR0o7lEbEgd7z+ab7IjhHxWEq/Gfh8mXMQ8CNJw4GNwIeA3Vuoty+wU0RMS+m/Bj5bpt7hwC0RsQF4UdJDZfIA/BW4N3eMv6uQL9+f/dP2MLIVdYmIxZKaKpRF0ihgFEBDQ4PvCqlhfhS8Wc/gIKSdIuIZSUOAY4D/K+nBiLg07V6bfm5gU1+Xe2J4lPysNj1vbW57A7BdhWOVcyqwGzAkItZJWgH0bqXeah+0UU2+dbFpOed8X5Wqtj/LNyRiAjABslV0z5lxc7VFrYfxukBmPYMvx7RTumTyTkTcBFwJfLKVItPJ/ugjaQTZJZs3077jJPWWtCswApid0g+UNCDNBTkJeKSatkXE68Bbkj6dkk6ukLUv8EoKQA4D9mql3jeAlZKGpaRTK2SdDpwsaWtJe5Bd6ulojwBfAkh323y8E45hZmadwCMh7fdxYJykjcA64LxW8o8Frk+XDd4BTsvtmwXcBzQAl0XEi5L2AR4HLk/Hmg7c1Yb2nQVcK+ltYCqwskyeScA9kuYAC4ClVdR7BnCdpHeAByrkuQs4nOyS1TPAtAr52uNq4IbUn/OBJsqfo5mZdTMKP766W5A0FlgVEVeWpI8AxkREubkc1dTbJyJWpe3vAntExNfb2dxuQ9LWwDYRsUbSQGAKsE9E/LWlco2NjTFk/EVd0kbrer4cY9a9SJobEe+5c9EjIbXvc5K+R/a7fh44vdjmdLjtgYclbUM2P+S81gIQMzPrHjwSYnVpSGNjzJ0zp+hmWCfx3TFm3UulkRBPTLW6VPUtNdYjOQAx6xkchJiZmVkhHISYmZlZIRyEmJmZWSEchJiZmVkhHISYmZlZIRyEmJmZWSEchJiZmVkhHISYmZlZIRyEmJmZWSEchJiZmVkhHISYmZlZIRyEmJmZWSG8iq7VJUlvAU8X3Y5uqB/watGN6IbcL+W5X8pzv7zXXhGxW2liryJaYtYNPF1uWel6J2mO++W93C/luV/Kc79Uz5djzMzMrBAOQszMzKwQDkKsXk0ougHdlPulPPdLee6X8twvVfLEVDMzMyuER0LMzMysEA5CrKZIOlrS05Kek/TdMvu3lXRb2v+EpP65fd9L6U9L+vuubHdn29J+kdRf0mpJC9Lrmq5ue2eqol+GS5onab2kkSX7TpP0bHqd1nWt7nzt7JcNuc/L3V3X6q5RRd9cJOlJSU2SpkjaK7evZj8zWywi/PKrJl7A1sB/AB8B3gcsBPYryXM+cE3aPhm4LW3vl/JvCwxI9Wxd9Dl1g37pDywu+hwK7Jf+wCDgRmBkLn0XYFn6uXPa3rnocyq6X9K+VUWfQ8F9cxiwfdo+L/dvqWY/M+15eSTEasmBwHMRsSwi/grcChxXkuc44Ia0fQdwhCSl9FsjYm1ELAeeS/XVgvb0Sy1rtV8iYkVENAEbS8r+PfCHiPhLRLwO/AE4uisa3QXa0y+1rpq+eTgi3klvZwIfTtu1/JnZYg5CrJZ8CPhT7v0LKa1snohYD6wEdq2ybE/Vnn4BGCBpvqRpkg7p7MZ2ofb8zuv989KS3pLmSJop6fiObVrh2to3ZwG/38KydcFPTLVaUu6be+ntX5XyVFO2p2pPv7wENETEa5KGAJMl7R8Rb3Z0IwvQnt95vX9eWtIQES9K+gjwkKRFEfEfHdS2olXdN5K+DDQCh7a1bD3xSIjVkheAPXPvPwy8WCmPpF5AX+AvVZbtqba4X9LlqdcAImIu2fXwfTq9xV2jPb/zev+8VBQRL6afy4CpwAEd2biCVdU3ko4Evg8cGxFr21K23jgIsVoyG9hb0gBJ7yObYFk6O/9uoHlW+kjgochmjd0NnJzuEhkA7A3M6qJ2d7Yt7hdJu0naGiB9s92bbEJdLaimXyp5ADhK0s6SdgaOSmm1YIv7JfXHtmm7H3Aw8GSntbTrtdo3kg4AfkEWgLyS21XLn5ktV/TMWL/86sgXcAzwDNk39u+ntEvJ/kMA6A3cTjbxdBbwkVzZ76dyTwOfLfpcukO/ACcAS8juApgH/M+iz6WL+2Uo2TfYt4HXgCW5smem/noOOKPoc+kO/QIcBCxKn5dFwFlFn0sBffNH4GVgQXrdXQ+fmS19+YmpZmZmVghfjjEzM7NCOAgxMzOzQjgIMTMzs0I4CDEzM7NCOAgxMzOzQjgIMTMzs0I4CDEzM7NCOAgxMzOzQjgIMTMzs0I4CDEzM7NCOAgxMzOzQjgIMTMzs0I4CDEzM7NCOAgxMzOzQjgIMTMzs0I4CDEzM7NCOAgxMzOzQjgIMTMzs0I4CDEzM7NCOAgxMzOzQjgIMTMzs0I4CDFrJ0kbJC3Ivfp3QJ3HS9ov9/5SSUe2t95WjnmLpCZJ3yhJHytpTGceuzNJ+ndJO6XX+bn0EZLuraL86ZI+mHu/QlK/MvmOlfTdKtu0laR/kbRY0iJJsyUNqPaczGpFr6IbYFYDVkfE4Eo7JfWKiPVtrPN44F7gSYCIuLgd7WuVpL8BDoqIvTrzOEWIiGMAUnB4PnB1G6s4HVgMvNjKce4G7q6yzpOADwKDImKjpA8Db7exXWY9nkdCzDpB+vZ8u6R7gAcl9ZE0RdK89M33uFzer6YRiIWSfi3pIOBYYFwaWRkoaaKkkSn/EZLmp3quk7RtSl8h6ZLcMfYt067ekq5P++dLOiztehD4QDreIS2c11RJ4yVNl/SUpKGS7pT0rKR/zuWbLGmupCWSRuXSz5L0TKrnWkk/S+m7SfptGhGYLenglH5oboRpvqQdS9rzbUmj0/Z4SQ/l+uimXL/0Ay4HBqa6xqUq+ki6Q9JSSZMkqaT+kUAjMCmV2y7tuqC0n9PvvPl8TkyjHAslTS/TlXsAL0XERoCIeCEiXk9lj051L5Q0JaXtkH7Xs1M/HJc75p2S7k+/gx/n2n6UpMdTXbdL6lPp92pWmIjwyy+/2vECNgAL0uuulHY68AKwS3rfC3h/2u4HPAcI2B94GuiX9jXnnwiMzB1jIjAS6A38Cdgnpd8IXJi2VwAXpO3zgV+Waes3gevT9r7Af6Y6+wOLK5zfWGBM2p4KXJG2v042OrAHsG06311LzmM7slGEXcm++a8AdgG2AWYAP0v5bgaGpe0G4Km0fQ9wcNruA/QqadungdvT9gxgVqr7B8A5uX7pV3qOwAhgJfBhsi9kjze3oeQYU4HG3Puy/Zx+583nswj4UNreqUydH071LAB+AhyQ0ndLv98BJf34I+DLzfUBzwA7pGMuA/qm3+PzwJ7pfKcDO6Qy3wEuLvrfil9+lb58Ocas/SpdjvlDRPwlbQv4kaThwEbgQ8DuwOHAHRHxKkAufyUfBZZHxDPp/Q3A14Cfpvd3pp9zgS+WKT8M+Nd0rKWSngf2Ad5s5bh5zZccFgFLIuIlAEnLyP4AvgaMlvSFlG9PYG/gb4Bpzeco6fZ0bIAjgf1yAxHvT6MejwJXSZoE3BkRL5S0ZS4wJOVdC8wjG7k4BBhdxbnMaq5T0gKyQOWRKsq11s+PAhMl/SaX910R8YKkj5L9/g8Hpkg6EdgemB4Ry1O+5s/DUcCx2jQ3pzdZsAYwJSJWpnN4EtiLLFDZD3g09en7yIIss27FQYhZ58lf4z+V7FvukIhYJ2kF2R8SAdGGOtXK/rXp5wbK//turXw1mo+xMbfd/L6XpBFkQcVnIuIdSVPZdK6VbJXyry5Jv1zSfcAxwExJR0bE0uadub48A3gMaAIOAwYCT7XhXKByn7VUrmyZiDhX0qeAzwELJA2OiNdK8qwFfg/8XtLLZPOA/kD5z4OAEyLi6c0Ss2OUOweRBcGnVHk+ZoXwnBCzrtEXeCX90TyM7NsqwBTgS5J2BZC0S0p/C9jxvdWwFOgv6W/T+68A09rQjulkARGS9iH7Nv10iyXari/wegpA9iW7ZALZpZJDJe0sqRdwQq7Mg8A/Nr+RNDj9HBgRiyLiCmAO2SWkcuc0Jv2cAZwLLIiI0j/mlfq0NW0ul9r9RGQTil8lGw3K7/+k0h03krYCBpFdSnmcrI8GpH3Nn4cHyOahKKUf0EoTZgIHN39OJG2fft9m3YqDELOuMQlolDSHLAhYChARS4AfAtMkLQSuSvlvBb6VJiEObK4kItaQfeu/XdIistGHa9rQjquBrVPZ24DT0zfyjnQ/2YhIE3AZ2R9EIuL/k81teAL4I9mdPytTmdFk/dOULimcm9IvbJ7gCawmGzkoNYNsXsrjEfEysCalbSaNRDya6htXur8FE4FrSiamtmZcmrS6mCw4Wliy/wPAPWl/E7CebD7Jn4FRwJ3pnG9L+S8jm+vSlMpc1tLBUz2nA7ek38NMygdwZoXSe78smJl1Dkl9ImJVGgm5C7guIu4qul1mVgyPhJhZVxqbJoAuBpYDkwtuj5kVyCMhZmZmVgiPhJiZmVkhHISYmZlZIRyEmJmZWSEchJiZmVkhHISYmZlZIRyEmJmZWSH+G3+xA7zf+sdmAAAAAElFTkSuQmCC\n",
      "text/plain": [
       "<Figure size 720x360 with 1 Axes>"
      ]
     },
     "metadata": {
      "needs_background": "light"
     },
     "output_type": "display_data"
    }
   ],
   "source": [
    "show_scenes()"
   ]
  },
  {
   "cell_type": "markdown",
   "metadata": {},
   "source": [
    "## Setting up summary pdf\n",
    "<a id=\"summarypdf\"></a>"
   ]
  },
  {
   "cell_type": "code",
   "execution_count": 29,
   "metadata": {},
   "outputs": [],
   "source": [
    "first_pass = False"
   ]
  },
  {
   "cell_type": "code",
   "execution_count": 30,
   "metadata": {},
   "outputs": [],
   "source": [
    "def write_pdf(numbers):\n",
    "    for i in numbers:\n",
    "        if i in to_write.keys():\n",
    "            if i not in [1, 6]:\n",
    "                for sentence in to_write[i]:\n",
    "                    pdf.write(5, sentence)\n",
    "                    pdf.ln()\n",
    "            if i == 0:\n",
    "                pdf.ln()\n",
    "                pdf.write(5, to_write[1][0])\n",
    "                pdf.ln()\n",
    "            elif i == 1:\n",
    "                continue\n",
    "            elif i == 2:\n",
    "                pdf.image('results/{0}/{1}/0.png'.format(folder_name, save_loc), h=80)\n",
    "                pdf.ln()\n",
    "            elif i == 3:\n",
    "                pdf.image('results/{0}/{1}/1.png'.format(folder_name, save_loc), h=80)\n",
    "                pdf.ln()\n",
    "            elif i == 4:\n",
    "                pdf.image('results/{0}/{1}/2.png'.format(folder_name, save_loc), w=160)\n",
    "                pdf.ln()\n",
    "            elif i == 5:\n",
    "                pdf.image('results/{0}/{1}/3.png'.format(folder_name, save_loc), h=80)\n",
    "                pdf.ln()\n",
    "            elif i == 6:\n",
    "                pdf.write(5, to_write[i][0])\n",
    "                pdf.ln()\n",
    "                pdf.write(5, to_write[i][1])\n",
    "                pdf.ln()\n",
    "                pdf.write(5, to_write[i][2])\n",
    "                pdf.ln()\n",
    "                pdf.image('results/{0}/{1}/4_a.png'.format(folder_name, save_loc), w=160)\n",
    "                pdf.ln()\n",
    "                pdf.write(5, to_write[i][3])\n",
    "                pdf.ln()\n",
    "                pdf.image('results/{0}/{1}/4_b.png'.format(folder_name, save_loc), w=160)\n",
    "                pdf.ln()\n",
    "                pdf.write(5, to_write[i][4])\n",
    "                pdf.ln()\n",
    "                pdf.image('results/{0}/{1}/4_c.png'.format(folder_name, save_loc), w=160)\n",
    "                pdf.ln()\n",
    "                pdf.write(5, to_write[i][5])\n",
    "                pdf.ln()\n",
    "                pdf.image('results/{0}/{1}/4_d.png'.format(folder_name, save_loc), w=160)\n",
    "                pdf.ln()\n",
    "            elif i == 7:\n",
    "                pdf.image('results/{0}/{1}/5.png'.format(folder_name, save_loc), h=80)\n",
    "                pdf.ln()\n",
    "            pdf.ln(h=3)\n",
    "            pdf.dashed_line(10, pdf.get_y(), 200, pdf.get_y())\n",
    "            pdf.ln(h=3)"
   ]
  },
  {
   "cell_type": "code",
   "execution_count": 32,
   "metadata": {},
   "outputs": [
    {
     "data": {
      "text/plain": [
       "''"
      ]
     },
     "execution_count": 32,
     "metadata": {},
     "output_type": "execute_result"
    }
   ],
   "source": [
    "from fpdf import FPDF\n",
    "pdf = FPDF()\n",
    "pdf.add_page()\n",
    "pdf.set_font('Arial', 'B', 16)\n",
    "pdf.write(5, \"Gender-Based Summary\")\n",
    "pdf.ln()\n",
    "pdf.ln()\n",
    "\n",
    "# Overview Statistics\n",
    "pdf.set_font('Arial', 'B', 12)\n",
    "pdf.write(5, \"Overview Statistics\")\n",
    "pdf.ln()\n",
    "pdf.ln(h=3)\n",
    "pdf.line(10, pdf.get_y(), 200, pdf.get_y())\n",
    "pdf.ln(h=3)\n",
    "pdf.set_font('Arial', '', 12)\n",
    "write_pdf([3, 7])\n",
    "\n",
    "# Interesting findings\n",
    "pdf.set_font('Arial', 'B', 12)\n",
    "pdf.write(5, \"Sample Interesting Findings\")\n",
    "pdf.ln()\n",
    "pdf.ln(h=3)\n",
    "pdf.line(10, pdf.get_y(), 200, pdf.get_y())\n",
    "pdf.ln(h=3)\n",
    "pdf.set_font('Arial', '', 12)\n",
    "write_pdf([0, 1, 2, 4, 5, 6])\n",
    "\n",
    "# Interesting findings\n",
    "pdf.set_font('Arial', 'B', 12)\n",
    "pdf.write(5, \"Some of the other metrics in the notebook\")\n",
    "pdf.ln()\n",
    "pdf.ln(h=3)\n",
    "pdf.line(10, pdf.get_y(), 200, pdf.get_y())\n",
    "pdf.ln(h=3)\n",
    "pdf.set_font('Arial', '', 12)\n",
    "pdf.write(5, \"- (M2) Cooccurrence differences of objects between genders\")\n",
    "pdf.ln()\n",
    "pdf.write(5, \"- (M4) Scene differences per object between genders\")\n",
    "pdf.ln()\n",
    "\n",
    "\n",
    "# Saved findings\n",
    "pdf.set_font('Arial', 'B', 12)\n",
    "pdf.write(5, \"Findings that were saved:\")\n",
    "pdf.ln()\n",
    "pdf.ln(h=5)\n",
    "pdf.line(10, pdf.get_y(), 200, pdf.get_y())\n",
    "pdf.ln(h=10)\n",
    "pdf.set_font('Arial', 'B', 10)\n",
    "pdf.write(5, \"(M1) Metric: Distance from center, size, gender label inference\")\n",
    "pdf.set_font('Arial', '', 10)\n",
    "pdf.ln(h=5)\n",
    "pdf.write(5, \"Statistics on how many gender labels were inferred when they shouldn't have been because the person was either too small, or no face was detected. The scenes where this happens are shown to investigate if perhaps annotators are relying on contextual clues to make this assumption.\")\n",
    "pdf.ln(h=2)\n",
    "pdf.write(print_numbers_where_gender_inferred())\n",
    "pdf.ln(h=10)\n",
    "if saved[0]:\n",
    "    pdf.image(\"results/{0}/{1}/scenes_where_no_face.png\".format(folder_name, save_loc), h=50)\n",
    "pdf.ln(h=10)\n",
    "\n",
    "if saved[1]:\n",
    "    global count_instance_ratios\n",
    "    while(count_instance_ratios != 0):\n",
    "        pdf.image(\"results/{0}/{1}/instance_ratios_{2}.png\".format(folder_name, save_loc, count_instance_ratios), h=50)\n",
    "        count_instance_ratios -= 1\n",
    "pdf.ln(h=5)\n",
    "\n",
    "pdf.set_font('Arial', 'B', 10)\n",
    "pdf.write(5, \"\\n(M2) Metric: Object occurrences and cooccurrences\\n\")\n",
    "pdf.set_font('Arial', '', 10)\n",
    "if saved[2]:\n",
    "    global count_compare_sizedist\n",
    "    while(count_compare_sizedist != 0):\n",
    "        pdf.image(\"results/{0}/{1}/compare_sizedist_{2}.png\".format(folder_name, save_loc, count_compare_sizedist), h=50)\n",
    "        count_compare_sizedist -= 1\n",
    "pdf.ln(h=5)\n",
    "pdf.write(print_cooccurrence_counts_mi((30)))\n",
    "\n",
    "\n",
    "\n",
    "pdf.ln(h=10)\n",
    "pdf.set_font('Arial', 'B', 10)\n",
    "pdf.write(5, \"(M3) Metric : Distance from object as proxy for interaction\")\n",
    "pdf.set_font('Arial', '', 10)\n",
    "pdf.ln(h=10)\n",
    "if saved[3]:\n",
    "    global count_distance_ratio\n",
    "    while(count_distance_ratio != 0):\n",
    "        pdf.image(\"results/{0}/{1}/distanceRatio{2}.png\".format(folder_name, save_loc, count_distance_ratio), h=50)\n",
    "        count_distance_ratio -= 1\n",
    "pdf.ln(h=10)\n",
    "\n",
    "\n",
    "\n",
    "\n",
    "pdf.set_font('Arial', 'B', 10)\n",
    "pdf.write(5, \"(M4) Metric: Linearly separable objects by gender\")\n",
    "pdf.set_font('Arial', '', 10)\n",
    "pdf.write(print_instance_diff_by_scene(20))\n",
    "pdf.ln(h=10)\n",
    "\n",
    "pdf.output('results/{0}/{1}/summary.pdf'.format(folder_name, save_loc), \"F\")"
   ]
<<<<<<< HEAD
=======
  },
  {
   "cell_type": "code",
   "execution_count": null,
   "metadata": {},
   "outputs": [],
   "source": []
  },
  {
   "cell_type": "code",
   "execution_count": null,
   "metadata": {},
   "outputs": [],
   "source": []
  },
  {
   "cell_type": "code",
   "execution_count": null,
   "metadata": {},
   "outputs": [],
   "source": []
  },
  {
   "cell_type": "code",
   "execution_count": null,
   "metadata": {},
   "outputs": [],
   "source": []
  },
  {
   "cell_type": "code",
   "execution_count": null,
   "metadata": {},
   "outputs": [],
   "source": []
  },
  {
   "cell_type": "code",
   "execution_count": null,
   "metadata": {},
   "outputs": [],
   "source": []
>>>>>>> b96c64d... features to save various data results added
  }
 ],
 "metadata": {
  "kernelspec": {
   "display_name": "Python 3",
   "language": "python",
   "name": "python3"
  },
  "language_info": {
   "codemirror_mode": {
    "name": "ipython",
    "version": 3
   },
   "file_extension": ".py",
   "mimetype": "text/x-python",
   "name": "python",
   "nbconvert_exporter": "python",
   "pygments_lexer": "ipython3",
   "version": "3.7.3"
  }
 },
 "nbformat": 4,
 "nbformat_minor": 2
}
